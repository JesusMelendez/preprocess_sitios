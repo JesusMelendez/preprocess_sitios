{
 "cells": [
  {
   "cell_type": "code",
   "execution_count": 72,
   "metadata": {},
   "outputs": [],
   "source": [
    "import pandas as pd\n",
    "import numpy as np\n",
    "import re\n",
    "from shapely.geometry import Point, Polygon\n",
    "import geopandas as gpd\n",
    "import fiona\n"
   ]
  },
  {
   "attachments": {},
   "cell_type": "markdown",
   "metadata": {},
   "source": [
    "### Transform Data to GeoData"
   ]
  },
  {
   "cell_type": "code",
   "execution_count": 73,
   "metadata": {},
   "outputs": [],
   "source": [
    "def to_float(i):\n",
    "    \"\"\"\n",
    "    el parámetro i es un del tipo str\n",
    "    -----------------------------------\n",
    "    La función to_float convierte a 'i' a tipo flotante\n",
    "    -----------------------------------\n",
    "    devuelve un valor del tipo float\n",
    "    \n",
    "    \"\"\"\n",
    "    i = float(i)\n",
    "    return i"
   ]
  },
  {
   "cell_type": "code",
   "execution_count": 74,
   "metadata": {},
   "outputs": [],
   "source": [
    "def transform(row):\n",
    "    \"\"\"\n",
    "    el parámetro row es un valor del tipo str\n",
    "    ----------------------------------------------\n",
    "    separa los elementos de cada row de acuerdo a ciertos caracteres\n",
    "    depura aquellos que no cumplen ciertas condiciones asignandoles el valor de lista vacia\n",
    "    transforma cada cadena de texto a valores del tipo float\n",
    "    ------------------------------------------------\n",
    "    Retorna coor la cual puede ser una lista con valores flotantes \n",
    "    o una lista vacía.\n",
    "\n",
    "    \"\"\"\n",
    "    input = row.split(',')\n",
    "\n",
    "    size_list = len(input)\n",
    "\n",
    "\n",
    "    if size_list ==1:\n",
    "        coor = []\n",
    "    elif len(input) ==2:\n",
    "        try:\n",
    "            pre_punto = map(to_float,input)\n",
    "        except ValueError as e:\n",
    "            print(e)\n",
    "            coor=list(pre_punto)\n",
    "    elif len(input) >2:\n",
    "        not_point = re.split(r\",0\\\\n\\\\n|,0|0\\s-|,\",row)\n",
    "        if (\"\" in not_point):\n",
    "            not_point.remove(\"\")\n",
    "            list_with_float = map(to_float,not_point)\n",
    "            coor = list(list_with_float)\n",
    "        else:\n",
    "            list_with_float = map(to_float,not_point)\n",
    "            coor = list(list_with_float)\n",
    "        return coor\n"
   ]
  },
  {
   "cell_type": "code",
   "execution_count": 75,
   "metadata": {},
   "outputs": [],
   "source": [
    "def to_matrix(listado):\n",
    "    \"\"\"\n",
    "    el parámetro listado es un objeto del tipo lista\n",
    "    -----------------------------------\n",
    "    transforma una lista a un array de numpy\n",
    "    asigna la forma del array\n",
    "    -----------------------------------\n",
    "    devuelve una matriz\n",
    "    \"\"\"\n",
    "    n = len(listado)\n",
    "    c = 2\n",
    "    f =  n/c\n",
    "    f = int(f)\n",
    "    vector = np.array(listado)\n",
    "    matriz = vector.reshape(f,c)\n",
    "    return matriz"
   ]
  },
  {
   "cell_type": "code",
   "execution_count": 76,
   "metadata": {},
   "outputs": [],
   "source": [
    "def arreglo(listado):\n",
    "\n",
    "    ar = listado.sort()\n",
    "    return ar"
   ]
  },
  {
   "cell_type": "code",
   "execution_count": 77,
   "metadata": {},
   "outputs": [],
   "source": [
    "def geometry_apply(x):\n",
    "    \"\"\"\n",
    "    el parámetro x es una lista\n",
    "    ------------------------------------------\n",
    "    de acuerdo a la longitud de la lista aplica una o dos funciones\n",
    "    -----------------------------------------\n",
    "    devuelve geometry que puede ser un objeto Point, Polygon o un valor None\n",
    "    \"\"\"\n",
    "\n",
    "    n = x\n",
    "\n",
    "    if len(n) == 2:\n",
    "            orden=arreglo(n)\n",
    "            geometry = Point(orden)\n",
    "    elif len(n) >5 and len(n) %2 == 0: #Nueva validación\n",
    "        listado = to_matrix(n)\n",
    "        geometry = Polygon(listado)\n",
    "    else:\n",
    "        geometry = None\n",
    "    return geometry\n"
   ]
  },
  {
   "cell_type": "code",
   "execution_count": 78,
   "metadata": {},
   "outputs": [],
   "source": [
    "def typeshape(x):\n",
    "    \"\"\"\n",
    "    El parámetro x es un str\n",
    "    ----------------------------------------\n",
    "    De acuerdo al valor genera ciertas cadenas de texto\n",
    "    ---------------------------------------\n",
    "    retorna label que es un str\n",
    "    \"\"\"\n",
    "    n=x\n",
    "    if int(n) == 2:\n",
    "        label = \"Point\"\n",
    "    else:\n",
    "        label = \"Polygon\"\n",
    "    return label    "
   ]
  },
  {
   "cell_type": "code",
   "execution_count": 79,
   "metadata": {},
   "outputs": [],
   "source": [
    "PATH = input('Please enter the path where are you working')"
   ]
  },
  {
   "cell_type": "code",
   "execution_count": 80,
   "metadata": {},
   "outputs": [],
   "source": [
    "PATH = PATH + '\\\\'"
   ]
  },
  {
   "cell_type": "code",
   "execution_count": 81,
   "metadata": {},
   "outputs": [
    {
     "data": {
      "text/plain": [
       "'C:\\\\Users\\\\JMELENDEZ\\\\OneDrive - CIMMYT\\\\Desktop\\\\Aguas Firmes Calera\\\\AguasFirmes\\\\'"
      ]
     },
     "execution_count": 81,
     "metadata": {},
     "output_type": "execute_result"
    }
   ],
   "source": [
    "PATH"
   ]
  },
  {
   "cell_type": "code",
   "execution_count": 82,
   "metadata": {},
   "outputs": [],
   "source": [
    "target_file = 'bitacoras_pv22.csv'"
   ]
  },
  {
   "cell_type": "code",
   "execution_count": 92,
   "metadata": {},
   "outputs": [],
   "source": [
    "puntos = PATH+'points.geojson'\n",
    "poligonos = PATH+'polygons.geojson'"
   ]
  },
  {
   "cell_type": "code",
   "execution_count": 83,
   "metadata": {},
   "outputs": [],
   "source": [
    "def main(file_input):\n",
    "    \"\"\"\n",
    "    file_input recibe al archivo Sitios.txt\n",
    "    -----------------------------------------------\n",
    "    Lee el archivo\n",
    "    genera columnas y aplica funciones\n",
    "    crea 3 subsets distintos\n",
    "    elimina columnas temporales y columna Coordenadas areas\n",
    "    exportar los sets a un formato específico\n",
    "    -----------------------------------------------\n",
    "    genera los archivos de salida o un error\n",
    "    \"\"\"\n",
    "    try:\n",
    "        sitios= pd.read_csv(file_input)\n",
    "        sitiosbd = sitios.copy()\n",
    "        sitiosbd['info_geo'] = sitiosbd['Coordenadas']\n",
    "        sitiosbd['info_geo']=sitiosbd['info_geo'].astype(str)\n",
    "        sitiosbd['info_geo']= sitiosbd['info_geo'].apply(transform)\n",
    "        desechados=sitiosbd[sitiosbd['info_geo'].isnull()]\n",
    "        sitiosbd_depurate=sitiosbd[sitiosbd['info_geo'].notna()]\n",
    "        sitiosbd_depurate['n_vertices'] = sitiosbd_depurate['info_geo'].apply(lambda x:len(x))\n",
    "        sitiosbd_depurate['type_geometry'] = sitiosbd_depurate['info_geo'].apply(geometry_apply)\n",
    "        sitiosbd_depurate=sitiosbd_depurate[sitiosbd_depurate['type_geometry'].notna()]\n",
    "        desechados_2=sitiosbd_depurate[sitiosbd_depurate['type_geometry'].isnull()]\n",
    "        desechados = pd.concat([desechados_2,desechados],axis=1)\n",
    "        desechados.to_csv(f'{PATH}errors.csv')\n",
    "        sitiosbd_depurate['type_shape'] = sitiosbd_depurate['n_vertices'].apply(typeshape)\n",
    "        sitiosbd_polygon = sitiosbd_depurate[sitiosbd_depurate['type_shape']=='Polygon']\n",
    "        sitiosbd_point = sitiosbd_depurate[sitiosbd_depurate['type_shape']=='Point']\n",
    "        gdf_points_sitios = gpd.GeoDataFrame(sitiosbd_point,geometry='type_geometry',crs='CRS84')\n",
    "        gdf_polygons_sitios = gpd.GeoDataFrame(sitiosbd_polygon,geometry='type_geometry',crs='CRS84')\n",
    " \n",
    "        eliminar = ['Coordenadas','info_geo','n_vertices','type_shape','Nombre Productor','Bitacora registrada por']\n",
    "        gdf_points_sitios=gdf_points_sitios.drop(columns=eliminar)\n",
    "        gdf_polygons_sitios=gdf_polygons_sitios.drop(columns=eliminar)\n",
    "\n",
    "        gdf_points_sitios.to_file(puntos,crs='CRS84', driver='GeoJSON')\n",
    "        gdf_polygons_sitios.to_file(poligonos,crs='CRS84', driver='GeoJSON')\n",
    "    except FileNotFoundError as e:\n",
    "        print(f'Por favor ejecute el script en el mismo directorio donde se encuentre el archivo Sitio.txt {e}')"
   ]
  },
  {
   "cell_type": "code",
   "execution_count": 84,
   "metadata": {},
   "outputs": [
    {
     "name": "stderr",
     "output_type": "stream",
     "text": [
      "c:\\Users\\JMELENDEZ\\AppData\\Local\\Programs\\Python\\Python38\\lib\\site-packages\\geopandas\\io\\file.py:545: UserWarning: You are attempting to write an empty DataFrame to file. For some drivers, this operation may fail.\n",
      "  _to_file_fiona(df, filename, driver, schema, crs, mode, **kwargs)\n"
     ]
    }
   ],
   "source": [
    "if __name__ == \"__main__\":\n",
    "    main(f'{PATH}{target_file}')"
   ]
  },
  {
   "attachments": {},
   "cell_type": "markdown",
   "metadata": {},
   "source": [
    "### Join Oldset with new one"
   ]
  },
  {
   "cell_type": "code",
   "execution_count": 85,
   "metadata": {},
   "outputs": [],
   "source": [
    "last_geojson_file = PATH+'layer_poligonos.geojson'"
   ]
  },
  {
   "cell_type": "code",
   "execution_count": 86,
   "metadata": {},
   "outputs": [],
   "source": [
    "last_geodf = gpd.read_file(last_geojson_file)"
   ]
  },
  {
   "cell_type": "code",
   "execution_count": 88,
   "metadata": {},
   "outputs": [
    {
     "data": {
      "text/html": [
       "<div>\n",
       "<style scoped>\n",
       "    .dataframe tbody tr th:only-of-type {\n",
       "        vertical-align: middle;\n",
       "    }\n",
       "\n",
       "    .dataframe tbody tr th {\n",
       "        vertical-align: top;\n",
       "    }\n",
       "\n",
       "    .dataframe thead th {\n",
       "        text-align: right;\n",
       "    }\n",
       "</style>\n",
       "<table border=\"1\" class=\"dataframe\">\n",
       "  <thead>\n",
       "    <tr style=\"text-align: right;\">\n",
       "      <th></th>\n",
       "      <th>ID</th>\n",
       "      <th>Tipo de bitacora</th>\n",
       "      <th>Tipo de superficie</th>\n",
       "      <th>ID parcela</th>\n",
       "      <th>ID del sitio</th>\n",
       "      <th>Nombre de la Parcela</th>\n",
       "      <th>Estado</th>\n",
       "      <th>Municipio</th>\n",
       "      <th>Año</th>\n",
       "      <th>Ciclo</th>\n",
       "      <th>Regimen hidrico</th>\n",
       "      <th>Superficie sembrada</th>\n",
       "      <th>Superficie Total</th>\n",
       "      <th>Cultivo</th>\n",
       "      <th>Labranza</th>\n",
       "      <th>Tipo de semilla</th>\n",
       "      <th>Variedad</th>\n",
       "      <th>geometry</th>\n",
       "    </tr>\n",
       "  </thead>\n",
       "  <tbody>\n",
       "    <tr>\n",
       "      <th>0</th>\n",
       "      <td>BitAg-2022-0626-0141-9mNZj-BHEWv</td>\n",
       "      <td>AE</td>\n",
       "      <td>Innovacion</td>\n",
       "      <td>RParc-2022-0626-0139-VWc1d-glJO4</td>\n",
       "      <td>Sitio-2022-0524-1107-aYZTC-h2hch</td>\n",
       "      <td>ALFREDO DOMINGUEZ1</td>\n",
       "      <td>Zacatecas</td>\n",
       "      <td>Panuco</td>\n",
       "      <td>OI_2021_2022</td>\n",
       "      <td>OI</td>\n",
       "      <td>RIEGO</td>\n",
       "      <td>2.0</td>\n",
       "      <td>2.0</td>\n",
       "      <td>AJO</td>\n",
       "      <td>Labranza convencional</td>\n",
       "      <td>Otro Criolla</td>\n",
       "      <td>CRIOLLO</td>\n",
       "      <td>MULTIPOLYGON (((-102.58961 22.98375, -102.5887...</td>\n",
       "    </tr>\n",
       "    <tr>\n",
       "      <th>1</th>\n",
       "      <td>BitAg-2022-0525-0312-tFiZR-NONKi</td>\n",
       "      <td>AE</td>\n",
       "      <td>Innovacion</td>\n",
       "      <td>RParc-2022-0518-1025-KuiWV-pG8zK</td>\n",
       "      <td>Sitio-2022-0413-1202-gykMQ-coVuZ</td>\n",
       "      <td>AJO</td>\n",
       "      <td>Zacatecas</td>\n",
       "      <td>Calera</td>\n",
       "      <td>OI_2021_2022</td>\n",
       "      <td>OI</td>\n",
       "      <td>RIEGO</td>\n",
       "      <td>4.5</td>\n",
       "      <td>4.5</td>\n",
       "      <td>Ajo</td>\n",
       "      <td>Labranza minima reducida</td>\n",
       "      <td>Otro Criolla</td>\n",
       "      <td>AJO</td>\n",
       "      <td>MULTIPOLYGON (((-102.65673 22.93083, -102.6555...</td>\n",
       "    </tr>\n",
       "  </tbody>\n",
       "</table>\n",
       "</div>"
      ],
      "text/plain": [
       "                                 ID Tipo de bitacora Tipo de superficie  \\\n",
       "0  BitAg-2022-0626-0141-9mNZj-BHEWv               AE         Innovacion   \n",
       "1  BitAg-2022-0525-0312-tFiZR-NONKi               AE         Innovacion   \n",
       "\n",
       "                         ID parcela                      ID del sitio  \\\n",
       "0  RParc-2022-0626-0139-VWc1d-glJO4  Sitio-2022-0524-1107-aYZTC-h2hch   \n",
       "1  RParc-2022-0518-1025-KuiWV-pG8zK  Sitio-2022-0413-1202-gykMQ-coVuZ   \n",
       "\n",
       "  Nombre de la Parcela     Estado Municipio           Año Ciclo  \\\n",
       "0   ALFREDO DOMINGUEZ1  Zacatecas    Panuco  OI_2021_2022    OI   \n",
       "1                  AJO  Zacatecas    Calera  OI_2021_2022    OI   \n",
       "\n",
       "  Regimen hidrico  Superficie sembrada  Superficie Total Cultivo  \\\n",
       "0           RIEGO                  2.0               2.0     AJO   \n",
       "1           RIEGO                  4.5               4.5     Ajo   \n",
       "\n",
       "                   Labranza Tipo de semilla Variedad  \\\n",
       "0     Labranza convencional    Otro Criolla  CRIOLLO   \n",
       "1  Labranza minima reducida    Otro Criolla      AJO   \n",
       "\n",
       "                                            geometry  \n",
       "0  MULTIPOLYGON (((-102.58961 22.98375, -102.5887...  \n",
       "1  MULTIPOLYGON (((-102.65673 22.93083, -102.6555...  "
      ]
     },
     "execution_count": 88,
     "metadata": {},
     "output_type": "execute_result"
    }
   ],
   "source": [
    "last_geodf.head(2)"
   ]
  },
  {
   "cell_type": "code",
   "execution_count": 89,
   "metadata": {},
   "outputs": [
    {
     "name": "stdout",
     "output_type": "stream",
     "text": [
      "<class 'geopandas.geodataframe.GeoDataFrame'>\n",
      "RangeIndex: 162 entries, 0 to 161\n",
      "Data columns (total 18 columns):\n",
      " #   Column                Non-Null Count  Dtype   \n",
      "---  ------                --------------  -----   \n",
      " 0   ID                    162 non-null    object  \n",
      " 1   Tipo de bitacora      162 non-null    object  \n",
      " 2   Tipo de superficie    162 non-null    object  \n",
      " 3   ID parcela            162 non-null    object  \n",
      " 4   ID del sitio          162 non-null    object  \n",
      " 5   Nombre de la Parcela  162 non-null    object  \n",
      " 6   Estado                162 non-null    object  \n",
      " 7   Municipio             162 non-null    object  \n",
      " 8   Año                   162 non-null    object  \n",
      " 9   Ciclo                 162 non-null    object  \n",
      " 10  Regimen hidrico       162 non-null    object  \n",
      " 11  Superficie sembrada   162 non-null    float64 \n",
      " 12  Superficie Total      162 non-null    float64 \n",
      " 13  Cultivo               162 non-null    object  \n",
      " 14  Labranza              162 non-null    object  \n",
      " 15  Tipo de semilla       162 non-null    object  \n",
      " 16  Variedad              162 non-null    object  \n",
      " 17  geometry              162 non-null    geometry\n",
      "dtypes: float64(2), geometry(1), object(15)\n",
      "memory usage: 22.9+ KB\n"
     ]
    }
   ],
   "source": [
    "last_geodf.info()"
   ]
  },
  {
   "cell_type": "code",
   "execution_count": 93,
   "metadata": {},
   "outputs": [],
   "source": [
    "#read the new  one \n",
    "new_geodf = gpd.read_file(poligonos)"
   ]
  },
  {
   "cell_type": "code",
   "execution_count": 94,
   "metadata": {},
   "outputs": [
    {
     "data": {
      "text/html": [
       "<div>\n",
       "<style scoped>\n",
       "    .dataframe tbody tr th:only-of-type {\n",
       "        vertical-align: middle;\n",
       "    }\n",
       "\n",
       "    .dataframe tbody tr th {\n",
       "        vertical-align: top;\n",
       "    }\n",
       "\n",
       "    .dataframe thead th {\n",
       "        text-align: right;\n",
       "    }\n",
       "</style>\n",
       "<table border=\"1\" class=\"dataframe\">\n",
       "  <thead>\n",
       "    <tr style=\"text-align: right;\">\n",
       "      <th></th>\n",
       "      <th>ID de bitacora</th>\n",
       "      <th>Tipo de bitacora</th>\n",
       "      <th>Tipo de superficie</th>\n",
       "      <th>ID del productor</th>\n",
       "      <th>ID parcela</th>\n",
       "      <th>ID del sitio</th>\n",
       "      <th>Nombre de la Parcela</th>\n",
       "      <th>Estado</th>\n",
       "      <th>Municipio</th>\n",
       "      <th>coordenadas  duplicadas</th>\n",
       "      <th>...</th>\n",
       "      <th>Rendimiento(ton/ha)</th>\n",
       "      <th>Precio de venta(MXN/ton)</th>\n",
       "      <th>UN (kg/ha)</th>\n",
       "      <th>Uso de N (UN kg/ton)</th>\n",
       "      <th>Tipo de riego</th>\n",
       "      <th>No Riego</th>\n",
       "      <th>Consumo de agua (m3/ha)</th>\n",
       "      <th>Intensidad de agua (m3/ton)</th>\n",
       "      <th>Productividad de agua (kg/m3)</th>\n",
       "      <th>geometry</th>\n",
       "    </tr>\n",
       "  </thead>\n",
       "  <tbody>\n",
       "    <tr>\n",
       "      <th>0</th>\n",
       "      <td>BitAg-2022-0627-0546-ZWlCo-3aPv1</td>\n",
       "      <td>AE</td>\n",
       "      <td>Innovacion</td>\n",
       "      <td>RProd-2022-0616-0548-spxku-QJZx9</td>\n",
       "      <td>RParc-2022-0627-0532-dtDy0-wPQjX</td>\n",
       "      <td>Sitio-2022-0712-1234-Rs8vG-7D67w</td>\n",
       "      <td>LA ESTACION</td>\n",
       "      <td>Zacatecas</td>\n",
       "      <td>Fresnillo</td>\n",
       "      <td>NaN</td>\n",
       "      <td>...</td>\n",
       "      <td>1.8</td>\n",
       "      <td>17500.0</td>\n",
       "      <td>37.000</td>\n",
       "      <td>20.555556</td>\n",
       "      <td>Riego_por_goteo</td>\n",
       "      <td>3.0</td>\n",
       "      <td>1260.0</td>\n",
       "      <td>700.000000</td>\n",
       "      <td>1.428571</td>\n",
       "      <td>POLYGON ((-102.78167 23.20027, -102.78131 23.2...</td>\n",
       "    </tr>\n",
       "    <tr>\n",
       "      <th>1</th>\n",
       "      <td>BitAg-2022-0812-0534-vFQh5-YrZIO</td>\n",
       "      <td>AE</td>\n",
       "      <td>Innovacion</td>\n",
       "      <td>RProd-2022-0616-0651-dfUDO-trYu7</td>\n",
       "      <td>RParc-2022-0812-0530-fYMc9-ZWYFv</td>\n",
       "      <td>Sitio-2022-0719-0922-EpjMU-qIaqn</td>\n",
       "      <td>NELSON ALANIS GARCIA</td>\n",
       "      <td>Zacatecas</td>\n",
       "      <td>Fresnillo</td>\n",
       "      <td>NaN</td>\n",
       "      <td>...</td>\n",
       "      <td>3.0</td>\n",
       "      <td>90000.0</td>\n",
       "      <td>31.825</td>\n",
       "      <td>10.608333</td>\n",
       "      <td>Riego_por_goteo</td>\n",
       "      <td>34.0</td>\n",
       "      <td>4820.0</td>\n",
       "      <td>1606.666667</td>\n",
       "      <td>0.622407</td>\n",
       "      <td>POLYGON ((-102.74475 23.18956, -102.74476 23.1...</td>\n",
       "    </tr>\n",
       "  </tbody>\n",
       "</table>\n",
       "<p>2 rows × 33 columns</p>\n",
       "</div>"
      ],
      "text/plain": [
       "                     ID de bitacora Tipo de bitacora Tipo de superficie  \\\n",
       "0  BitAg-2022-0627-0546-ZWlCo-3aPv1               AE         Innovacion   \n",
       "1  BitAg-2022-0812-0534-vFQh5-YrZIO               AE         Innovacion   \n",
       "\n",
       "                   ID del productor                        ID parcela  \\\n",
       "0  RProd-2022-0616-0548-spxku-QJZx9  RParc-2022-0627-0532-dtDy0-wPQjX   \n",
       "1  RProd-2022-0616-0651-dfUDO-trYu7  RParc-2022-0812-0530-fYMc9-ZWYFv   \n",
       "\n",
       "                       ID del sitio  Nombre de la Parcela    Estado   \\\n",
       "0  Sitio-2022-0712-1234-Rs8vG-7D67w           LA ESTACION  Zacatecas   \n",
       "1  Sitio-2022-0719-0922-EpjMU-qIaqn  NELSON ALANIS GARCIA  Zacatecas   \n",
       "\n",
       "  Municipio   coordenadas  duplicadas  ... Rendimiento(ton/ha)  \\\n",
       "0  Fresnillo                      NaN  ...                 1.8   \n",
       "1  Fresnillo                      NaN  ...                 3.0   \n",
       "\n",
       "  Precio de venta(MXN/ton) UN (kg/ha)  Uso de N (UN kg/ton)    Tipo de riego  \\\n",
       "0                  17500.0     37.000             20.555556  Riego_por_goteo   \n",
       "1                  90000.0     31.825             10.608333  Riego_por_goteo   \n",
       "\n",
       "  No Riego Consumo de agua (m3/ha) Intensidad de agua (m3/ton)  \\\n",
       "0      3.0                  1260.0                  700.000000   \n",
       "1     34.0                  4820.0                 1606.666667   \n",
       "\n",
       "  Productividad de agua (kg/m3)  \\\n",
       "0                      1.428571   \n",
       "1                      0.622407   \n",
       "\n",
       "                                            geometry  \n",
       "0  POLYGON ((-102.78167 23.20027, -102.78131 23.2...  \n",
       "1  POLYGON ((-102.74475 23.18956, -102.74476 23.1...  \n",
       "\n",
       "[2 rows x 33 columns]"
      ]
     },
     "execution_count": 94,
     "metadata": {},
     "output_type": "execute_result"
    }
   ],
   "source": [
    "new_geodf.head(2)"
   ]
  },
  {
   "cell_type": "code",
   "execution_count": 103,
   "metadata": {},
   "outputs": [
    {
     "data": {
      "text/plain": [
       "0       Frijol_Hibrida\n",
       "1        Chile_Criolla\n",
       "2         Maiz_Hibrida\n",
       "3         Maiz_Hibrida\n",
       "4         Maiz_Hibrida\n",
       "            ...       \n",
       "286      Chile_Criolla\n",
       "287    Frijol_Mejorada\n",
       "288       Maiz_Hibrida\n",
       "289      Chile_Hibrida\n",
       "290      Chile_Criolla\n",
       "Name: Semilla, Length: 291, dtype: object"
      ]
     },
     "execution_count": 103,
     "metadata": {},
     "output_type": "execute_result"
    }
   ],
   "source": [
    "new_geodf['Semilla']"
   ]
  },
  {
   "cell_type": "code",
   "execution_count": 95,
   "metadata": {},
   "outputs": [
    {
     "name": "stdout",
     "output_type": "stream",
     "text": [
      "<class 'geopandas.geodataframe.GeoDataFrame'>\n",
      "RangeIndex: 291 entries, 0 to 290\n",
      "Data columns (total 33 columns):\n",
      " #   Column                         Non-Null Count  Dtype   \n",
      "---  ------                         --------------  -----   \n",
      " 0   ID de bitacora                 291 non-null    object  \n",
      " 1   Tipo de bitacora               291 non-null    object  \n",
      " 2   Tipo de superficie             291 non-null    object  \n",
      " 3   ID del productor               291 non-null    object  \n",
      " 4   ID parcela                     291 non-null    object  \n",
      " 5   ID del sitio                   291 non-null    object  \n",
      " 6   Nombre de la Parcela           291 non-null    object  \n",
      " 7   Estado                         291 non-null    object  \n",
      " 8   Municipio                      291 non-null    object  \n",
      " 9   coordenadas  duplicadas        6 non-null      float64 \n",
      " 10  Anio Bitacora                  291 non-null    object  \n",
      " 11  Ciclo                          291 non-null    object  \n",
      " 12  Regimen hidrico                291 non-null    object  \n",
      " 13  Superficie sembrada            291 non-null    float64 \n",
      " 14  Superficie Total               291 non-null    float64 \n",
      " 15  Cultivo                        291 non-null    object  \n",
      " 16  tipo  labranza                 228 non-null    object  \n",
      " 17  tecnologia                     291 non-null    object  \n",
      " 18  Realiza  AC                    291 non-null    object  \n",
      " 19  Tecnificacion  Riego           291 non-null    object  \n",
      " 20  Semilla                        291 non-null    object  \n",
      " 21  Producto                       291 non-null    object  \n",
      " 22  Variedad                       291 non-null    object  \n",
      " 23  Rendimiento(ton/ha)            177 non-null    float64 \n",
      " 24  Precio de venta(MXN/ton)       177 non-null    float64 \n",
      " 25  UN (kg/ha)                     122 non-null    float64 \n",
      " 26  Uso de N (UN kg/ton)           122 non-null    float64 \n",
      " 27  Tipo de riego                  154 non-null    object  \n",
      " 28  No Riego                       154 non-null    float64 \n",
      " 29  Consumo de agua (m3/ha)        154 non-null    float64 \n",
      " 30  Intensidad de agua (m3/ton)    143 non-null    float64 \n",
      " 31  Productividad de agua (kg/m3)  143 non-null    float64 \n",
      " 32  geometry                       291 non-null    geometry\n",
      "dtypes: float64(11), geometry(1), object(21)\n",
      "memory usage: 75.1+ KB\n"
     ]
    }
   ],
   "source": [
    "new_geodf.info()"
   ]
  },
  {
   "cell_type": "code",
   "execution_count": 99,
   "metadata": {},
   "outputs": [
    {
     "data": {
      "text/plain": [
       "Index(['ID', 'Tipo de bitacora', 'Tipo de superficie', 'ID parcela',\n",
       "       'ID del sitio', 'Nombre de la Parcela', 'Estado', 'Municipio', 'Año',\n",
       "       'Ciclo', 'Regimen hidrico', 'Superficie sembrada', 'Superficie Total',\n",
       "       'Cultivo', 'Labranza', 'Tipo de semilla', 'Variedad', 'geometry'],\n",
       "      dtype='object')"
      ]
     },
     "execution_count": 99,
     "metadata": {},
     "output_type": "execute_result"
    }
   ],
   "source": [
    "last_geodf.columns"
   ]
  },
  {
   "cell_type": "code",
   "execution_count": 110,
   "metadata": {},
   "outputs": [],
   "source": [
    "last_geodf.rename(columns={'Año':'Anio Bitacora'},inplace=True)"
   ]
  },
  {
   "cell_type": "code",
   "execution_count": 105,
   "metadata": {},
   "outputs": [
    {
     "data": {
      "text/plain": [
       "Index(['ID de bitacora', 'Tipo de bitacora', 'Tipo de superficie',\n",
       "       'ID del productor', 'ID parcela', 'ID del sitio',\n",
       "       'Nombre de la Parcela', 'Estado ', 'Municipio ',\n",
       "       'coordenadas  duplicadas', 'Anio Bitacora', 'Ciclo', 'Regimen hidrico',\n",
       "       'Superficie sembrada', 'Superficie Total', 'Cultivo ', 'tipo  labranza',\n",
       "       'tecnologia', 'Realiza  AC', 'Tecnificacion  Riego', 'Semilla',\n",
       "       'Producto', 'Variedad', 'Rendimiento(ton/ha)',\n",
       "       'Precio de venta(MXN/ton)', 'UN (kg/ha)', 'Uso de N (UN kg/ton)',\n",
       "       'Tipo de riego', 'No Riego', 'Consumo de agua (m3/ha)',\n",
       "       'Intensidad de agua (m3/ton)', 'Productividad de agua (kg/m3)',\n",
       "       'geometry'],\n",
       "      dtype='object')"
      ]
     },
     "execution_count": 105,
     "metadata": {},
     "output_type": "execute_result"
    }
   ],
   "source": [
    "new_geodf.columns"
   ]
  },
  {
   "cell_type": "code",
   "execution_count": 109,
   "metadata": {},
   "outputs": [],
   "source": [
    "new_geodf.rename(columns={'ID de bitacora':'ID','Estado ':'Estado','Municipio ':'Municipio','tipo  labranza':'Labranza','Semilla':'Tipo de semilla',\n",
    "                          'Cultivo':'Cultivo'},inplace=True)"
   ]
  },
  {
   "cell_type": "code",
   "execution_count": 113,
   "metadata": {},
   "outputs": [],
   "source": [
    "new_geodf.rename(columns={'Cultivo ':'Cultivo'},inplace=True)"
   ]
  },
  {
   "cell_type": "code",
   "execution_count": 133,
   "metadata": {},
   "outputs": [],
   "source": [
    "lista_cols = list(last_geodf.columns)"
   ]
  },
  {
   "cell_type": "code",
   "execution_count": 134,
   "metadata": {},
   "outputs": [],
   "source": [
    "new_geodf = new_geodf[lista_cols]"
   ]
  },
  {
   "cell_type": "code",
   "execution_count": 135,
   "metadata": {},
   "outputs": [],
   "source": [
    "last_set = PATH +'last_set.geojson'"
   ]
  },
  {
   "cell_type": "code",
   "execution_count": 144,
   "metadata": {},
   "outputs": [],
   "source": [
    "##Just to prevent errror about projection, it is necessary that both files are same projection\n",
    "last_geodf.to_file(last_set,crs='CRS84', driver='GeoJSON')"
   ]
  },
  {
   "cell_type": "code",
   "execution_count": 145,
   "metadata": {},
   "outputs": [],
   "source": [
    "same_pro_last_set = gpd.read_file(last_set)"
   ]
  },
  {
   "cell_type": "code",
   "execution_count": 146,
   "metadata": {},
   "outputs": [
    {
     "data": {
      "text/html": [
       "<div>\n",
       "<style scoped>\n",
       "    .dataframe tbody tr th:only-of-type {\n",
       "        vertical-align: middle;\n",
       "    }\n",
       "\n",
       "    .dataframe tbody tr th {\n",
       "        vertical-align: top;\n",
       "    }\n",
       "\n",
       "    .dataframe thead th {\n",
       "        text-align: right;\n",
       "    }\n",
       "</style>\n",
       "<table border=\"1\" class=\"dataframe\">\n",
       "  <thead>\n",
       "    <tr style=\"text-align: right;\">\n",
       "      <th></th>\n",
       "      <th>ID</th>\n",
       "      <th>Tipo de bitacora</th>\n",
       "      <th>Tipo de superficie</th>\n",
       "      <th>ID parcela</th>\n",
       "      <th>ID del sitio</th>\n",
       "      <th>Nombre de la Parcela</th>\n",
       "      <th>Estado</th>\n",
       "      <th>Municipio</th>\n",
       "      <th>Anio Bitacora</th>\n",
       "      <th>Ciclo</th>\n",
       "      <th>Regimen hidrico</th>\n",
       "      <th>Superficie sembrada</th>\n",
       "      <th>Superficie Total</th>\n",
       "      <th>Cultivo</th>\n",
       "      <th>Labranza</th>\n",
       "      <th>Tipo de semilla</th>\n",
       "      <th>Variedad</th>\n",
       "      <th>geometry</th>\n",
       "    </tr>\n",
       "  </thead>\n",
       "  <tbody>\n",
       "    <tr>\n",
       "      <th>0</th>\n",
       "      <td>BitAg-2022-0626-0141-9mNZj-BHEWv</td>\n",
       "      <td>AE</td>\n",
       "      <td>Innovacion</td>\n",
       "      <td>RParc-2022-0626-0139-VWc1d-glJO4</td>\n",
       "      <td>Sitio-2022-0524-1107-aYZTC-h2hch</td>\n",
       "      <td>ALFREDO DOMINGUEZ1</td>\n",
       "      <td>Zacatecas</td>\n",
       "      <td>Panuco</td>\n",
       "      <td>OI_2021_2022</td>\n",
       "      <td>OI</td>\n",
       "      <td>RIEGO</td>\n",
       "      <td>2.0</td>\n",
       "      <td>2.0</td>\n",
       "      <td>AJO</td>\n",
       "      <td>Labranza convencional</td>\n",
       "      <td>Otro Criolla</td>\n",
       "      <td>CRIOLLO</td>\n",
       "      <td>MULTIPOLYGON (((-102.58961 22.98375, -102.5887...</td>\n",
       "    </tr>\n",
       "    <tr>\n",
       "      <th>1</th>\n",
       "      <td>BitAg-2022-0525-0312-tFiZR-NONKi</td>\n",
       "      <td>AE</td>\n",
       "      <td>Innovacion</td>\n",
       "      <td>RParc-2022-0518-1025-KuiWV-pG8zK</td>\n",
       "      <td>Sitio-2022-0413-1202-gykMQ-coVuZ</td>\n",
       "      <td>AJO</td>\n",
       "      <td>Zacatecas</td>\n",
       "      <td>Calera</td>\n",
       "      <td>OI_2021_2022</td>\n",
       "      <td>OI</td>\n",
       "      <td>RIEGO</td>\n",
       "      <td>4.5</td>\n",
       "      <td>4.5</td>\n",
       "      <td>Ajo</td>\n",
       "      <td>Labranza minima reducida</td>\n",
       "      <td>Otro Criolla</td>\n",
       "      <td>AJO</td>\n",
       "      <td>MULTIPOLYGON (((-102.65673 22.93083, -102.6555...</td>\n",
       "    </tr>\n",
       "  </tbody>\n",
       "</table>\n",
       "</div>"
      ],
      "text/plain": [
       "                                 ID Tipo de bitacora Tipo de superficie  \\\n",
       "0  BitAg-2022-0626-0141-9mNZj-BHEWv               AE         Innovacion   \n",
       "1  BitAg-2022-0525-0312-tFiZR-NONKi               AE         Innovacion   \n",
       "\n",
       "                         ID parcela                      ID del sitio  \\\n",
       "0  RParc-2022-0626-0139-VWc1d-glJO4  Sitio-2022-0524-1107-aYZTC-h2hch   \n",
       "1  RParc-2022-0518-1025-KuiWV-pG8zK  Sitio-2022-0413-1202-gykMQ-coVuZ   \n",
       "\n",
       "  Nombre de la Parcela     Estado Municipio Anio Bitacora Ciclo  \\\n",
       "0   ALFREDO DOMINGUEZ1  Zacatecas    Panuco  OI_2021_2022    OI   \n",
       "1                  AJO  Zacatecas    Calera  OI_2021_2022    OI   \n",
       "\n",
       "  Regimen hidrico  Superficie sembrada  Superficie Total Cultivo  \\\n",
       "0           RIEGO                  2.0               2.0     AJO   \n",
       "1           RIEGO                  4.5               4.5     Ajo   \n",
       "\n",
       "                   Labranza Tipo de semilla Variedad  \\\n",
       "0     Labranza convencional    Otro Criolla  CRIOLLO   \n",
       "1  Labranza minima reducida    Otro Criolla      AJO   \n",
       "\n",
       "                                            geometry  \n",
       "0  MULTIPOLYGON (((-102.58961 22.98375, -102.5887...  \n",
       "1  MULTIPOLYGON (((-102.65673 22.93083, -102.6555...  "
      ]
     },
     "execution_count": 146,
     "metadata": {},
     "output_type": "execute_result"
    }
   ],
   "source": [
    "same_pro_last_set.head(2)"
   ]
  },
  {
   "cell_type": "code",
   "execution_count": 147,
   "metadata": {},
   "outputs": [
    {
     "name": "stderr",
     "output_type": "stream",
     "text": [
      "C:\\Users\\JMELENDEZ\\AppData\\Local\\Temp\\ipykernel_13092\\1867640418.py:2: FutureWarning: The frame.append method is deprecated and will be removed from pandas in a future version. Use pandas.concat instead.\n",
      "  gdf_consolidado_pv22 = same_pro_last_set.append(new_geodf,ignore_index=True)\n"
     ]
    }
   ],
   "source": [
    "#join two sets\n",
    "gdf_consolidado_pv22 = same_pro_last_set.append(new_geodf,ignore_index=True)"
   ]
  },
  {
   "cell_type": "code",
   "execution_count": 148,
   "metadata": {},
   "outputs": [
    {
     "data": {
      "text/html": [
       "<div>\n",
       "<style scoped>\n",
       "    .dataframe tbody tr th:only-of-type {\n",
       "        vertical-align: middle;\n",
       "    }\n",
       "\n",
       "    .dataframe tbody tr th {\n",
       "        vertical-align: top;\n",
       "    }\n",
       "\n",
       "    .dataframe thead th {\n",
       "        text-align: right;\n",
       "    }\n",
       "</style>\n",
       "<table border=\"1\" class=\"dataframe\">\n",
       "  <thead>\n",
       "    <tr style=\"text-align: right;\">\n",
       "      <th></th>\n",
       "      <th>ID</th>\n",
       "      <th>Tipo de bitacora</th>\n",
       "      <th>Tipo de superficie</th>\n",
       "      <th>ID parcela</th>\n",
       "      <th>ID del sitio</th>\n",
       "      <th>Nombre de la Parcela</th>\n",
       "      <th>Estado</th>\n",
       "      <th>Municipio</th>\n",
       "      <th>Anio Bitacora</th>\n",
       "      <th>Ciclo</th>\n",
       "      <th>Regimen hidrico</th>\n",
       "      <th>Superficie sembrada</th>\n",
       "      <th>Superficie Total</th>\n",
       "      <th>Cultivo</th>\n",
       "      <th>Labranza</th>\n",
       "      <th>Tipo de semilla</th>\n",
       "      <th>Variedad</th>\n",
       "      <th>geometry</th>\n",
       "    </tr>\n",
       "  </thead>\n",
       "  <tbody>\n",
       "    <tr>\n",
       "      <th>451</th>\n",
       "      <td>BitAg-2023-0305-1122-ZDyT7-VCAE4</td>\n",
       "      <td>AE</td>\n",
       "      <td>Innovacion</td>\n",
       "      <td>RParc-2023-0302-0615-PLnHz-wH3oj</td>\n",
       "      <td>Sitio-2023-0302-0608-5lmVG-IYHAy</td>\n",
       "      <td>EL SABINO 3</td>\n",
       "      <td>Zacatecas</td>\n",
       "      <td>Fresnillo</td>\n",
       "      <td>PV_2022</td>\n",
       "      <td>PV</td>\n",
       "      <td>RIEGO</td>\n",
       "      <td>9.9</td>\n",
       "      <td>9.90</td>\n",
       "      <td>Chile</td>\n",
       "      <td>Labranza_convencional</td>\n",
       "      <td>Chile_Hibrida</td>\n",
       "      <td>MIRASOL</td>\n",
       "      <td>POLYGON ((-102.63599 23.10034, -102.63434 23.1...</td>\n",
       "    </tr>\n",
       "    <tr>\n",
       "      <th>452</th>\n",
       "      <td>BitAg-2023-0327-1157-fWfxN-vhrwK</td>\n",
       "      <td>AI</td>\n",
       "      <td>Innovacion</td>\n",
       "      <td>RParc-2023-0327-1156-otqb5-rYPUE</td>\n",
       "      <td>Sitio-2023-0327-1154-atgXf-8qh36</td>\n",
       "      <td>RANCHO MONTE DE URIBE AI 4</td>\n",
       "      <td>Zacatecas</td>\n",
       "      <td>Fresnillo</td>\n",
       "      <td>PV_2022</td>\n",
       "      <td>PV</td>\n",
       "      <td>RIEGO</td>\n",
       "      <td>1.7</td>\n",
       "      <td>3.91</td>\n",
       "      <td>Chile</td>\n",
       "      <td>None</td>\n",
       "      <td>Chile_Criolla</td>\n",
       "      <td>MIRASOL</td>\n",
       "      <td>POLYGON ((-102.78218 23.16718, -102.78042 23.1...</td>\n",
       "    </tr>\n",
       "  </tbody>\n",
       "</table>\n",
       "</div>"
      ],
      "text/plain": [
       "                                   ID Tipo de bitacora Tipo de superficie  \\\n",
       "451  BitAg-2023-0305-1122-ZDyT7-VCAE4               AE         Innovacion   \n",
       "452  BitAg-2023-0327-1157-fWfxN-vhrwK               AI         Innovacion   \n",
       "\n",
       "                           ID parcela                      ID del sitio  \\\n",
       "451  RParc-2023-0302-0615-PLnHz-wH3oj  Sitio-2023-0302-0608-5lmVG-IYHAy   \n",
       "452  RParc-2023-0327-1156-otqb5-rYPUE  Sitio-2023-0327-1154-atgXf-8qh36   \n",
       "\n",
       "           Nombre de la Parcela     Estado  Municipio Anio Bitacora Ciclo  \\\n",
       "451                 EL SABINO 3  Zacatecas  Fresnillo       PV_2022    PV   \n",
       "452  RANCHO MONTE DE URIBE AI 4  Zacatecas  Fresnillo       PV_2022    PV   \n",
       "\n",
       "    Regimen hidrico  Superficie sembrada  Superficie Total Cultivo  \\\n",
       "451           RIEGO                  9.9              9.90   Chile   \n",
       "452           RIEGO                  1.7              3.91   Chile   \n",
       "\n",
       "                  Labranza Tipo de semilla Variedad  \\\n",
       "451  Labranza_convencional   Chile_Hibrida  MIRASOL   \n",
       "452                   None   Chile_Criolla  MIRASOL   \n",
       "\n",
       "                                              geometry  \n",
       "451  POLYGON ((-102.63599 23.10034, -102.63434 23.1...  \n",
       "452  POLYGON ((-102.78218 23.16718, -102.78042 23.1...  "
      ]
     },
     "execution_count": 148,
     "metadata": {},
     "output_type": "execute_result"
    }
   ],
   "source": [
    "gdf_consolidado_pv22.tail(2)"
   ]
  },
  {
   "cell_type": "code",
   "execution_count": 149,
   "metadata": {},
   "outputs": [
    {
     "name": "stdout",
     "output_type": "stream",
     "text": [
      "<class 'geopandas.geodataframe.GeoDataFrame'>\n",
      "RangeIndex: 453 entries, 0 to 452\n",
      "Data columns (total 18 columns):\n",
      " #   Column                Non-Null Count  Dtype   \n",
      "---  ------                --------------  -----   \n",
      " 0   ID                    453 non-null    object  \n",
      " 1   Tipo de bitacora      453 non-null    object  \n",
      " 2   Tipo de superficie    453 non-null    object  \n",
      " 3   ID parcela            453 non-null    object  \n",
      " 4   ID del sitio          453 non-null    object  \n",
      " 5   Nombre de la Parcela  453 non-null    object  \n",
      " 6   Estado                453 non-null    object  \n",
      " 7   Municipio             453 non-null    object  \n",
      " 8   Anio Bitacora         453 non-null    object  \n",
      " 9   Ciclo                 453 non-null    object  \n",
      " 10  Regimen hidrico       453 non-null    object  \n",
      " 11  Superficie sembrada   453 non-null    float64 \n",
      " 12  Superficie Total      453 non-null    float64 \n",
      " 13  Cultivo               453 non-null    object  \n",
      " 14  Labranza              390 non-null    object  \n",
      " 15  Tipo de semilla       453 non-null    object  \n",
      " 16  Variedad              453 non-null    object  \n",
      " 17  geometry              453 non-null    geometry\n",
      "dtypes: float64(2), geometry(1), object(15)\n",
      "memory usage: 63.8+ KB\n"
     ]
    }
   ],
   "source": [
    "gdf_consolidado_pv22.info()"
   ]
  },
  {
   "cell_type": "code",
   "execution_count": 150,
   "metadata": {},
   "outputs": [],
   "source": [
    "gdf_consolidado_pv22.drop_duplicates(keep='last',inplace=True)"
   ]
  },
  {
   "cell_type": "code",
   "execution_count": 151,
   "metadata": {},
   "outputs": [
    {
     "name": "stdout",
     "output_type": "stream",
     "text": [
      "<class 'geopandas.geodataframe.GeoDataFrame'>\n",
      "Int64Index: 453 entries, 0 to 452\n",
      "Data columns (total 18 columns):\n",
      " #   Column                Non-Null Count  Dtype   \n",
      "---  ------                --------------  -----   \n",
      " 0   ID                    453 non-null    object  \n",
      " 1   Tipo de bitacora      453 non-null    object  \n",
      " 2   Tipo de superficie    453 non-null    object  \n",
      " 3   ID parcela            453 non-null    object  \n",
      " 4   ID del sitio          453 non-null    object  \n",
      " 5   Nombre de la Parcela  453 non-null    object  \n",
      " 6   Estado                453 non-null    object  \n",
      " 7   Municipio             453 non-null    object  \n",
      " 8   Anio Bitacora         453 non-null    object  \n",
      " 9   Ciclo                 453 non-null    object  \n",
      " 10  Regimen hidrico       453 non-null    object  \n",
      " 11  Superficie sembrada   453 non-null    float64 \n",
      " 12  Superficie Total      453 non-null    float64 \n",
      " 13  Cultivo               453 non-null    object  \n",
      " 14  Labranza              390 non-null    object  \n",
      " 15  Tipo de semilla       453 non-null    object  \n",
      " 16  Variedad              453 non-null    object  \n",
      " 17  geometry              453 non-null    geometry\n",
      "dtypes: float64(2), geometry(1), object(15)\n",
      "memory usage: 67.2+ KB\n"
     ]
    }
   ],
   "source": [
    "gdf_consolidado_pv22.info()"
   ]
  },
  {
   "cell_type": "code",
   "execution_count": 152,
   "metadata": {},
   "outputs": [
    {
     "data": {
      "text/html": [
       "<div>\n",
       "<style scoped>\n",
       "    .dataframe tbody tr th:only-of-type {\n",
       "        vertical-align: middle;\n",
       "    }\n",
       "\n",
       "    .dataframe tbody tr th {\n",
       "        vertical-align: top;\n",
       "    }\n",
       "\n",
       "    .dataframe thead th {\n",
       "        text-align: right;\n",
       "    }\n",
       "</style>\n",
       "<table border=\"1\" class=\"dataframe\">\n",
       "  <thead>\n",
       "    <tr style=\"text-align: right;\">\n",
       "      <th></th>\n",
       "      <th>ID</th>\n",
       "      <th>Tipo de bitacora</th>\n",
       "      <th>Tipo de superficie</th>\n",
       "      <th>ID parcela</th>\n",
       "      <th>ID del sitio</th>\n",
       "      <th>Nombre de la Parcela</th>\n",
       "      <th>Estado</th>\n",
       "      <th>Municipio</th>\n",
       "      <th>Anio Bitacora</th>\n",
       "      <th>Ciclo</th>\n",
       "      <th>Regimen hidrico</th>\n",
       "      <th>Superficie sembrada</th>\n",
       "      <th>Superficie Total</th>\n",
       "      <th>Cultivo</th>\n",
       "      <th>Labranza</th>\n",
       "      <th>Tipo de semilla</th>\n",
       "      <th>Variedad</th>\n",
       "      <th>geometry</th>\n",
       "    </tr>\n",
       "  </thead>\n",
       "  <tbody>\n",
       "    <tr>\n",
       "      <th>447</th>\n",
       "      <td>BitAg-2023-0227-0809-XP4NN-f8cgh</td>\n",
       "      <td>AE</td>\n",
       "      <td>Innovacion</td>\n",
       "      <td>RParc-2022-0820-0636-IlrZB-XLsuL</td>\n",
       "      <td>Sitio-2023-0227-0805-i1wYr-51Fvx</td>\n",
       "      <td>EL PINO</td>\n",
       "      <td>Zacatecas</td>\n",
       "      <td>Fresnillo</td>\n",
       "      <td>PV_2022</td>\n",
       "      <td>PV</td>\n",
       "      <td>RIEGO</td>\n",
       "      <td>8.00</td>\n",
       "      <td>8.90</td>\n",
       "      <td>Maiz</td>\n",
       "      <td>Labranza_convencional</td>\n",
       "      <td>Maiz_Hibrida</td>\n",
       "      <td>H_311</td>\n",
       "      <td>POLYGON ((-102.81060 23.18878, -102.81060 23.1...</td>\n",
       "    </tr>\n",
       "    <tr>\n",
       "      <th>448</th>\n",
       "      <td>BitAg-2023-0301-0239-BXqoB-QK6Fk</td>\n",
       "      <td>AE</td>\n",
       "      <td>Innovacion</td>\n",
       "      <td>RParc-2023-0227-0812-bZUif-DMJf4</td>\n",
       "      <td>Sitio-2022-0712-1147-cq6m0-Jlcef</td>\n",
       "      <td>EL PINO</td>\n",
       "      <td>Zacatecas</td>\n",
       "      <td>Fresnillo</td>\n",
       "      <td>PV_2022</td>\n",
       "      <td>PV</td>\n",
       "      <td>RIEGO</td>\n",
       "      <td>4.25</td>\n",
       "      <td>4.25</td>\n",
       "      <td>Chile</td>\n",
       "      <td>Labranza_convencional</td>\n",
       "      <td>Chile_Criolla</td>\n",
       "      <td>DE ARBOL</td>\n",
       "      <td>POLYGON ((-102.81055 23.18884, -102.81043 23.1...</td>\n",
       "    </tr>\n",
       "    <tr>\n",
       "      <th>449</th>\n",
       "      <td>BitAg-2023-0302-1240-19ECL-VHaMM</td>\n",
       "      <td>AE</td>\n",
       "      <td>Innovacion</td>\n",
       "      <td>RParc-2022-0909-0248-dxV4a-UHPs2</td>\n",
       "      <td>Sitio-2022-0909-1216-iJnsj-VL9T7</td>\n",
       "      <td>LLANO BLANCO SUR</td>\n",
       "      <td>Zacatecas</td>\n",
       "      <td>Panuco</td>\n",
       "      <td>PV_2022</td>\n",
       "      <td>PV</td>\n",
       "      <td>RIEGO</td>\n",
       "      <td>1.00</td>\n",
       "      <td>5.00</td>\n",
       "      <td>Frijol</td>\n",
       "      <td>Labranza_convencional</td>\n",
       "      <td>Frijol_Mejorada</td>\n",
       "      <td>FLOR DE MAYO</td>\n",
       "      <td>POLYGON ((-102.61850 23.01135, -102.61588 23.0...</td>\n",
       "    </tr>\n",
       "    <tr>\n",
       "      <th>450</th>\n",
       "      <td>BitAg-2023-0303-0350-OBTWI-IyvSd</td>\n",
       "      <td>AE</td>\n",
       "      <td>Innovacion</td>\n",
       "      <td>RParc-2023-0302-0614-3J0PF-bfmOp</td>\n",
       "      <td>Sitio-2023-0302-0559-92dkE-y8HuK</td>\n",
       "      <td>EL SABINO 2</td>\n",
       "      <td>Zacatecas</td>\n",
       "      <td>Fresnillo</td>\n",
       "      <td>PV_2022</td>\n",
       "      <td>PV</td>\n",
       "      <td>RIEGO</td>\n",
       "      <td>3.00</td>\n",
       "      <td>9.80</td>\n",
       "      <td>Maiz</td>\n",
       "      <td>Labranza_convencional</td>\n",
       "      <td>Maiz_Hibrida</td>\n",
       "      <td>H_319</td>\n",
       "      <td>POLYGON ((-102.64119 23.10376, -102.63601 23.1...</td>\n",
       "    </tr>\n",
       "    <tr>\n",
       "      <th>451</th>\n",
       "      <td>BitAg-2023-0305-1122-ZDyT7-VCAE4</td>\n",
       "      <td>AE</td>\n",
       "      <td>Innovacion</td>\n",
       "      <td>RParc-2023-0302-0615-PLnHz-wH3oj</td>\n",
       "      <td>Sitio-2023-0302-0608-5lmVG-IYHAy</td>\n",
       "      <td>EL SABINO 3</td>\n",
       "      <td>Zacatecas</td>\n",
       "      <td>Fresnillo</td>\n",
       "      <td>PV_2022</td>\n",
       "      <td>PV</td>\n",
       "      <td>RIEGO</td>\n",
       "      <td>9.90</td>\n",
       "      <td>9.90</td>\n",
       "      <td>Chile</td>\n",
       "      <td>Labranza_convencional</td>\n",
       "      <td>Chile_Hibrida</td>\n",
       "      <td>MIRASOL</td>\n",
       "      <td>POLYGON ((-102.63599 23.10034, -102.63434 23.1...</td>\n",
       "    </tr>\n",
       "    <tr>\n",
       "      <th>452</th>\n",
       "      <td>BitAg-2023-0327-1157-fWfxN-vhrwK</td>\n",
       "      <td>AI</td>\n",
       "      <td>Innovacion</td>\n",
       "      <td>RParc-2023-0327-1156-otqb5-rYPUE</td>\n",
       "      <td>Sitio-2023-0327-1154-atgXf-8qh36</td>\n",
       "      <td>RANCHO MONTE DE URIBE AI 4</td>\n",
       "      <td>Zacatecas</td>\n",
       "      <td>Fresnillo</td>\n",
       "      <td>PV_2022</td>\n",
       "      <td>PV</td>\n",
       "      <td>RIEGO</td>\n",
       "      <td>1.70</td>\n",
       "      <td>3.91</td>\n",
       "      <td>Chile</td>\n",
       "      <td>None</td>\n",
       "      <td>Chile_Criolla</td>\n",
       "      <td>MIRASOL</td>\n",
       "      <td>POLYGON ((-102.78218 23.16718, -102.78042 23.1...</td>\n",
       "    </tr>\n",
       "  </tbody>\n",
       "</table>\n",
       "</div>"
      ],
      "text/plain": [
       "                                   ID Tipo de bitacora Tipo de superficie  \\\n",
       "447  BitAg-2023-0227-0809-XP4NN-f8cgh               AE         Innovacion   \n",
       "448  BitAg-2023-0301-0239-BXqoB-QK6Fk               AE         Innovacion   \n",
       "449  BitAg-2023-0302-1240-19ECL-VHaMM               AE         Innovacion   \n",
       "450  BitAg-2023-0303-0350-OBTWI-IyvSd               AE         Innovacion   \n",
       "451  BitAg-2023-0305-1122-ZDyT7-VCAE4               AE         Innovacion   \n",
       "452  BitAg-2023-0327-1157-fWfxN-vhrwK               AI         Innovacion   \n",
       "\n",
       "                           ID parcela                      ID del sitio  \\\n",
       "447  RParc-2022-0820-0636-IlrZB-XLsuL  Sitio-2023-0227-0805-i1wYr-51Fvx   \n",
       "448  RParc-2023-0227-0812-bZUif-DMJf4  Sitio-2022-0712-1147-cq6m0-Jlcef   \n",
       "449  RParc-2022-0909-0248-dxV4a-UHPs2  Sitio-2022-0909-1216-iJnsj-VL9T7   \n",
       "450  RParc-2023-0302-0614-3J0PF-bfmOp  Sitio-2023-0302-0559-92dkE-y8HuK   \n",
       "451  RParc-2023-0302-0615-PLnHz-wH3oj  Sitio-2023-0302-0608-5lmVG-IYHAy   \n",
       "452  RParc-2023-0327-1156-otqb5-rYPUE  Sitio-2023-0327-1154-atgXf-8qh36   \n",
       "\n",
       "           Nombre de la Parcela     Estado  Municipio Anio Bitacora Ciclo  \\\n",
       "447                     EL PINO  Zacatecas  Fresnillo       PV_2022    PV   \n",
       "448                     EL PINO  Zacatecas  Fresnillo       PV_2022    PV   \n",
       "449            LLANO BLANCO SUR  Zacatecas     Panuco       PV_2022    PV   \n",
       "450                 EL SABINO 2  Zacatecas  Fresnillo       PV_2022    PV   \n",
       "451                 EL SABINO 3  Zacatecas  Fresnillo       PV_2022    PV   \n",
       "452  RANCHO MONTE DE URIBE AI 4  Zacatecas  Fresnillo       PV_2022    PV   \n",
       "\n",
       "    Regimen hidrico  Superficie sembrada  Superficie Total Cultivo  \\\n",
       "447           RIEGO                 8.00              8.90    Maiz   \n",
       "448           RIEGO                 4.25              4.25   Chile   \n",
       "449           RIEGO                 1.00              5.00  Frijol   \n",
       "450           RIEGO                 3.00              9.80    Maiz   \n",
       "451           RIEGO                 9.90              9.90   Chile   \n",
       "452           RIEGO                 1.70              3.91   Chile   \n",
       "\n",
       "                  Labranza  Tipo de semilla      Variedad  \\\n",
       "447  Labranza_convencional     Maiz_Hibrida         H_311   \n",
       "448  Labranza_convencional    Chile_Criolla      DE ARBOL   \n",
       "449  Labranza_convencional  Frijol_Mejorada  FLOR DE MAYO   \n",
       "450  Labranza_convencional     Maiz_Hibrida         H_319   \n",
       "451  Labranza_convencional    Chile_Hibrida       MIRASOL   \n",
       "452                   None    Chile_Criolla       MIRASOL   \n",
       "\n",
       "                                              geometry  \n",
       "447  POLYGON ((-102.81060 23.18878, -102.81060 23.1...  \n",
       "448  POLYGON ((-102.81055 23.18884, -102.81043 23.1...  \n",
       "449  POLYGON ((-102.61850 23.01135, -102.61588 23.0...  \n",
       "450  POLYGON ((-102.64119 23.10376, -102.63601 23.1...  \n",
       "451  POLYGON ((-102.63599 23.10034, -102.63434 23.1...  \n",
       "452  POLYGON ((-102.78218 23.16718, -102.78042 23.1...  "
      ]
     },
     "execution_count": 152,
     "metadata": {},
     "output_type": "execute_result"
    }
   ],
   "source": [
    "gdf_consolidado_pv22.tail(6)"
   ]
  },
  {
   "cell_type": "code",
   "execution_count": 154,
   "metadata": {},
   "outputs": [],
   "source": [
    "salida=PATH + 'gdf_consolidado_pv22.geojson'"
   ]
  },
  {
   "cell_type": "code",
   "execution_count": 155,
   "metadata": {},
   "outputs": [],
   "source": [
    "gdf_consolidado_pv22.to_file(salida,crs='CRS84', driver='GeoJSON')"
   ]
  }
 ],
 "metadata": {
  "kernelspec": {
   "display_name": "venv",
   "language": "python",
   "name": "python3"
  },
  "language_info": {
   "codemirror_mode": {
    "name": "ipython",
    "version": 3
   },
   "file_extension": ".py",
   "mimetype": "text/x-python",
   "name": "python",
   "nbconvert_exporter": "python",
   "pygments_lexer": "ipython3",
   "version": "3.8.10"
  },
  "orig_nbformat": 4,
  "vscode": {
   "interpreter": {
    "hash": "fcb694eafc1e297a9ff4e4822b76b3500fdba5bfbf6da76cfcf5079fda3b1d96"
   }
  }
 },
 "nbformat": 4,
 "nbformat_minor": 2
}
