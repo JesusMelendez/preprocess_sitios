{
 "cells": [
  {
   "cell_type": "code",
   "execution_count": null,
   "metadata": {},
   "outputs": [],
   "source": [
    "import pandas as pd\n",
    "import numpy as np\n",
    "import re\n",
    "from shapely.geometry import Point, Polygon\n",
    "import geopandas as gpd"
   ]
  },
  {
   "cell_type": "markdown",
   "metadata": {},
   "source": [
    "##### Leer capas pasadas "
   ]
  },
  {
   "cell_type": "code",
   "execution_count": null,
   "metadata": {},
   "outputs": [],
   "source": [
    "PATH = input('Please enter the path where are you working')"
   ]
  },
  {
   "cell_type": "code",
   "execution_count": null,
   "metadata": {},
   "outputs": [],
   "source": [
    "PATH = PATH + '\\\\'"
   ]
  },
  {
   "cell_type": "code",
   "execution_count": null,
   "metadata": {},
   "outputs": [],
   "source": [
    "last_geo_file = 'pv_poligonos.geojson'"
   ]
  },
  {
   "cell_type": "code",
   "execution_count": null,
   "metadata": {},
   "outputs": [],
   "source": [
    "last_geojson_file_poly = PATH+last_geo_file"
   ]
  },
  {
   "cell_type": "code",
   "execution_count": null,
   "metadata": {},
   "outputs": [],
   "source": [
    "last_geodf = gpd.read_file(last_geojson_file_poly)"
   ]
  },
  {
   "cell_type": "code",
   "execution_count": null,
   "metadata": {},
   "outputs": [],
   "source": [
    "last_geodf.head(2)"
   ]
  },
  {
   "cell_type": "code",
   "execution_count": null,
   "metadata": {},
   "outputs": [],
   "source": [
    "last_geodf.info()"
   ]
  },
  {
   "cell_type": "code",
   "execution_count": null,
   "metadata": {},
   "outputs": [],
   "source": [
    "# Sí existe\n",
    "last_geo_file_points = 'pv_puntos.geojson'\n",
    "last_geojson_file_points = PATH+last_geo_file_points\n"
   ]
  },
  {
   "cell_type": "code",
   "execution_count": null,
   "metadata": {},
   "outputs": [],
   "source": [
    "last_geodf_points = gpd.read_file(last_geojson_file_points)\n"
   ]
  },
  {
   "cell_type": "code",
   "execution_count": null,
   "metadata": {},
   "outputs": [],
   "source": [
    "\n",
    "last_geodf_points.head(2)"
   ]
  },
  {
   "cell_type": "code",
   "execution_count": null,
   "metadata": {},
   "outputs": [],
   "source": [
    "last_geodf_points.info()"
   ]
  },
  {
   "cell_type": "code",
   "execution_count": null,
   "metadata": {},
   "outputs": [],
   "source": [
    "cols=list(last_geodf.columns)"
   ]
  },
  {
   "cell_type": "code",
   "execution_count": null,
   "metadata": {},
   "outputs": [],
   "source": [
    "cols"
   ]
  },
  {
   "cell_type": "code",
   "execution_count": null,
   "metadata": {},
   "outputs": [],
   "source": [
    "cols_points = list(last_geodf_points.columns)\n",
    "cols_points"
   ]
  },
  {
   "cell_type": "markdown",
   "metadata": {},
   "source": [
    "##### Formato ciclo a reportar"
   ]
  },
  {
   "cell_type": "code",
   "execution_count": null,
   "metadata": {},
   "outputs": [],
   "source": [
    "def to_float(i):\n",
    "    \"\"\"\n",
    "    el parámetro i es un del tipo str\n",
    "    -----------------------------------\n",
    "    La función to_float convierte a 'i' a tipo flotante\n",
    "    -----------------------------------\n",
    "    devuelve un valor del tipo float\n",
    "    \n",
    "    \"\"\"\n",
    "    i = float(i)\n",
    "    return i"
   ]
  },
  {
   "cell_type": "code",
   "execution_count": null,
   "metadata": {},
   "outputs": [],
   "source": [
    "def transform(row):\n",
    "    \"\"\"\n",
    "    el parámetro row es un valor del tipo str\n",
    "    ----------------------------------------------\n",
    "    separa los elementos de cada row de acuerdo a ciertos caracteres\n",
    "    depura aquellos que no cumplen ciertas condiciones asignandoles el valor de lista vacia\n",
    "    transforma cada cadena de texto a valores del tipo float\n",
    "    ------------------------------------------------\n",
    "    Retorna coor la cual puede ser una lista con valores flotantes \n",
    "    o una lista vacía.\n",
    "\n",
    "    \"\"\"\n",
    "    input = row.split(',')\n",
    "\n",
    "    size_list = len(input)\n",
    "\n",
    "\n",
    "    if size_list ==1:\n",
    "        coor = []\n",
    "    elif len(input) ==2:\n",
    "        try:\n",
    "            pre_punto = map(to_float,input)\n",
    "            coor=list(pre_punto)\n",
    "        except ValueError as e:\n",
    "            print(e)\n",
    "    elif len(input) >2:\n",
    "        not_point = re.split(r\",0\\\\n\\\\n|,0|0\\s-|,\",row)\n",
    "        if (\"\" in not_point):\n",
    "            not_point.remove(\"\")\n",
    "            list_with_float = map(to_float,not_point)\n",
    "            coor = list(list_with_float)\n",
    "        else:\n",
    "            list_with_float = map(to_float,not_point)\n",
    "            coor = list(list_with_float)\n",
    "    return coor"
   ]
  },
  {
   "cell_type": "code",
   "execution_count": null,
   "metadata": {},
   "outputs": [],
   "source": [
    "def arreglo(listado):\n",
    "\n",
    "    ar = listado.sort()\n",
    "    return ar"
   ]
  },
  {
   "cell_type": "code",
   "execution_count": null,
   "metadata": {},
   "outputs": [],
   "source": [
    "def to_matrix(listado):\n",
    "    \"\"\"\n",
    "    el parámetro listado es un objeto del tipo lista\n",
    "    -----------------------------------\n",
    "    transforma una lista a un array de numpy\n",
    "    asigna la forma del array\n",
    "    -----------------------------------\n",
    "    devuelve una matriz\n",
    "    \"\"\"\n",
    "    n = len(listado)\n",
    "    c = 2\n",
    "    f =  n/c\n",
    "    f = int(f)\n",
    "    vector = np.array(listado)\n",
    "    matriz = vector.reshape(f,c)\n",
    "    return matriz"
   ]
  },
  {
   "cell_type": "code",
   "execution_count": null,
   "metadata": {},
   "outputs": [],
   "source": [
    "def geometry_apply(x):\n",
    "    \"\"\"\n",
    "    el parámetro x es una lista\n",
    "    ------------------------------------------\n",
    "    de acuerdo a la longitud de la lista aplica una o dos funciones\n",
    "    -----------------------------------------\n",
    "    devuelve geometry que puede ser un objeto Point, Polygon o un valor None\n",
    "    \"\"\"\n",
    "\n",
    "    n = x\n",
    "\n",
    "    if len(n) == 2:\n",
    "        # orden=arreglo(n)\n",
    "        # n = n.sort()\n",
    "        geometry = Point(n)\n",
    "    elif len(n) >5 and len(n) %2 == 0: #Nueva validación\n",
    "        listado = to_matrix(n)\n",
    "        geometry = Polygon(listado)\n",
    "    else:\n",
    "        geometry = None\n",
    "    print(geometry)\n",
    "    return geometry"
   ]
  },
  {
   "cell_type": "code",
   "execution_count": null,
   "metadata": {},
   "outputs": [],
   "source": [
    "def typeshape(x):\n",
    "    \"\"\"\n",
    "    El parámetro x es un str\n",
    "    ----------------------------------------\n",
    "    De acuerdo al valor genera ciertas cadenas de texto\n",
    "    ---------------------------------------\n",
    "    retorna label que es un str\n",
    "    \"\"\"\n",
    "    n=x\n",
    "    if int(n) == 2:\n",
    "        label = \"Point\"\n",
    "    else:\n",
    "        label = \"Polygon\"\n",
    "    return label    "
   ]
  },
  {
   "cell_type": "code",
   "execution_count": null,
   "metadata": {},
   "outputs": [],
   "source": [
    "target_file = 'parcelas.csv'"
   ]
  },
  {
   "cell_type": "code",
   "execution_count": null,
   "metadata": {},
   "outputs": [],
   "source": [
    "# crear archivos de salida\n",
    "puntos = PATH+'points.geojson'\n",
    "poligonos = PATH+'polygons.geojson'"
   ]
  },
  {
   "cell_type": "code",
   "execution_count": null,
   "metadata": {},
   "outputs": [],
   "source": [
    "def main(file_input):\n",
    "    \"\"\"\n",
    "    file_input recibe al archivo Sitios.txt\n",
    "    -----------------------------------------------\n",
    "    Lee el archivo\n",
    "    genera columnas y aplica funciones\n",
    "    crea 3 subsets distintos\n",
    "    elimina columnas temporales y columna Coordenadas areas\n",
    "    exportar los sets a un formato específico\n",
    "    -----------------------------------------------\n",
    "    genera los archivos de salida o un error\n",
    "    \"\"\"\n",
    "    try:\n",
    "        sitios= pd.read_csv(file_input)\n",
    "        sitiosbd = sitios.copy()\n",
    "        sitiosbd['info_geo'] = sitiosbd['Coordenadas.areas']\n",
    "        sitiosbd['info_geo']=sitiosbd['info_geo'].astype(str)\n",
    "        sitiosbd['info_geo']= sitiosbd['info_geo'].apply(transform)\n",
    "        desechados=sitiosbd[sitiosbd['info_geo'].isnull()]\n",
    "        print(desechados.shape)\n",
    "        sitiosbd_depurate=sitiosbd[sitiosbd['info_geo'].notna()]\n",
    "        sitiosbd_depurate['n_vertices'] = sitiosbd_depurate['info_geo'].apply(lambda x:len(x))\n",
    "        # sitiosbd_depurate.to_csv(f'{PATH}n_vertices.csv')\n",
    "        # sitiosbd_depurate['type_geometry'] = sitiosbd_depurate['info_geo'].apply(arreglo)\n",
    "        sitiosbd_depurate['type_geometry'] = sitiosbd_depurate['info_geo'].apply(geometry_apply)\n",
    "        desechados_2=sitiosbd_depurate[sitiosbd_depurate['type_geometry'].isnull()]\n",
    "        desechados = pd.concat([desechados_2,desechados],axis=1)\n",
    "        sitiosbd_depurate=sitiosbd_depurate[sitiosbd_depurate['type_geometry'].notna()]\n",
    "        desechados.to_csv(f'{PATH}errors.csv')\n",
    "        sitiosbd_depurate['type_shape'] = sitiosbd_depurate['n_vertices'].apply(typeshape)\n",
    "        sitiosbd_polygon = sitiosbd_depurate[sitiosbd_depurate['type_shape']=='Polygon']\n",
    "        sitiosbd_point = sitiosbd_depurate[sitiosbd_depurate['type_shape']=='Point']\n",
    "        gdf_points_sitios = gpd.GeoDataFrame(sitiosbd_point,geometry='type_geometry',crs='CRS84')\n",
    "        gdf_polygons_sitios = gpd.GeoDataFrame(sitiosbd_polygon,geometry='type_geometry',crs='CRS84')\n",
    " #el formato GeoJSON no soporta el formato de listas(un arreglo)\n",
    "        eliminar = ['Coordenadas.areas','info_geo','n_vertices','type_shape','Nombre.Productor','Bitacora.registrada.por']\n",
    "        gdf_points_sitios=gdf_points_sitios.drop(columns=eliminar)\n",
    "        gdf_polygons_sitios=gdf_polygons_sitios.drop(columns=eliminar)\n",
    "\n",
    "        gdf_points_sitios.to_file(puntos,crs='CRS84', driver='GeoJSON')\n",
    "        gdf_polygons_sitios.to_file(poligonos,crs='CRS84', driver='GeoJSON')\n",
    "    except FileNotFoundError as e:\n",
    "        print(f'Por favor ejecute el script en el mismo directorio donde se encuentre el archivo Sitio.txt {e}')"
   ]
  },
  {
   "cell_type": "code",
   "execution_count": null,
   "metadata": {},
   "outputs": [],
   "source": [
    "if __name__ == \"__main__\":\n",
    "    main(f'{PATH}{target_file}')"
   ]
  },
  {
   "cell_type": "markdown",
   "metadata": {},
   "source": [
    "##### Ciclo a Reportar (GeoDF)"
   ]
  },
  {
   "cell_type": "code",
   "execution_count": null,
   "metadata": {},
   "outputs": [],
   "source": [
    "new_geodf = gpd.read_file(poligonos)"
   ]
  },
  {
   "cell_type": "code",
   "execution_count": null,
   "metadata": {},
   "outputs": [],
   "source": [
    "new_geodf.head(2)"
   ]
  },
  {
   "cell_type": "code",
   "execution_count": null,
   "metadata": {},
   "outputs": [],
   "source": [
    "new_geodf.info()"
   ]
  },
  {
   "cell_type": "code",
   "execution_count": null,
   "metadata": {},
   "outputs": [],
   "source": [
    "new_geodf_points = gpd.read_file(puntos)"
   ]
  },
  {
   "cell_type": "code",
   "execution_count": null,
   "metadata": {},
   "outputs": [],
   "source": [
    "new_geodf_points.head(2)"
   ]
  },
  {
   "cell_type": "code",
   "execution_count": null,
   "metadata": {},
   "outputs": [],
   "source": [
    "new_geodf_points.info()"
   ]
  },
  {
   "cell_type": "code",
   "execution_count": null,
   "metadata": {},
   "outputs": [],
   "source": [
    "cols_new_geo = list(new_geodf.columns)"
   ]
  },
  {
   "cell_type": "code",
   "execution_count": null,
   "metadata": {},
   "outputs": [],
   "source": [
    "cols_new_geo"
   ]
  },
  {
   "cell_type": "code",
   "execution_count": null,
   "metadata": {},
   "outputs": [],
   "source": [
    "cols_new_geo_points = list(new_geodf_points.columns)"
   ]
  },
  {
   "cell_type": "code",
   "execution_count": null,
   "metadata": {},
   "outputs": [],
   "source": [
    "cols_new_geo_points"
   ]
  },
  {
   "cell_type": "markdown",
   "metadata": {},
   "source": [
    "##### Consolidado"
   ]
  },
  {
   "cell_type": "markdown",
   "metadata": {},
   "source": [
    "###### Poligonos"
   ]
  },
  {
   "cell_type": "code",
   "execution_count": null,
   "metadata": {},
   "outputs": [],
   "source": [
    "def cols_no_estan(lista_cols_pasada, lista_cols_nueva,dataset):\n",
    "    try:\n",
    "        dataset = dataset[lista_cols_pasada]\n",
    "        return dataset\n",
    "    except KeyError as e:\n",
    "        print(e)\n",
    "        return [name for name in lista_cols_pasada if name not in lista_cols_nueva]\n"
   ]
  },
  {
   "cell_type": "code",
   "execution_count": null,
   "metadata": {},
   "outputs": [],
   "source": [
    "cols_no_estan(cols,cols_new_geo,new_geodf)"
   ]
  },
  {
   "cell_type": "code",
   "execution_count": null,
   "metadata": {},
   "outputs": [],
   "source": [
    "cols_new_geo"
   ]
  },
  {
   "cell_type": "code",
   "execution_count": null,
   "metadata": {},
   "outputs": [],
   "source": [
    "new_geodf.rename(columns={'ID.de.bitacora':'ID','Cultivo.1':'Cultivo'},inplace=True)"
   ]
  },
  {
   "cell_type": "code",
   "execution_count": null,
   "metadata": {},
   "outputs": [],
   "source": [
    "salida_polygons=cols_no_estan(cols,cols_new_geo,new_geodf)"
   ]
  },
  {
   "cell_type": "code",
   "execution_count": null,
   "metadata": {},
   "outputs": [],
   "source": [
    "salida_polygons.info()"
   ]
  },
  {
   "cell_type": "code",
   "execution_count": null,
   "metadata": {},
   "outputs": [],
   "source": [
    "last_geodf.info()"
   ]
  },
  {
   "cell_type": "code",
   "execution_count": null,
   "metadata": {},
   "outputs": [],
   "source": [
    "# emperejamos la proyeccion \n",
    "salida_polygons.crs"
   ]
  },
  {
   "cell_type": "code",
   "execution_count": null,
   "metadata": {},
   "outputs": [],
   "source": [
    "last_geodf.crs"
   ]
  },
  {
   "cell_type": "code",
   "execution_count": null,
   "metadata": {},
   "outputs": [],
   "source": [
    "salida_polygons.to_crs('EPSG:4326',inplace=True)"
   ]
  },
  {
   "cell_type": "code",
   "execution_count": null,
   "metadata": {},
   "outputs": [],
   "source": [
    "salida_polygons.crs"
   ]
  },
  {
   "cell_type": "code",
   "execution_count": null,
   "metadata": {},
   "outputs": [],
   "source": [
    "polygonos_pv = last_geodf.append(salida_polygons,ignore_index=True)"
   ]
  },
  {
   "cell_type": "code",
   "execution_count": null,
   "metadata": {},
   "outputs": [],
   "source": [
    "polygonos_pv.info()"
   ]
  },
  {
   "cell_type": "code",
   "execution_count": null,
   "metadata": {},
   "outputs": [],
   "source": [
    "polygonos_pv.drop_duplicates(keep='last',inplace=True)"
   ]
  },
  {
   "cell_type": "code",
   "execution_count": null,
   "metadata": {},
   "outputs": [],
   "source": [
    "polygonos_pv.info()"
   ]
  },
  {
   "cell_type": "code",
   "execution_count": null,
   "metadata": {},
   "outputs": [],
   "source": [
    "def clean_text(string):\n",
    "    lista=string.split('_')\n",
    "    if len(lista) > 1:\n",
    "        lista.pop(0)\n",
    "        municipio = ' '.join(lista)\n",
    "        return municipio\n",
    "    else:\n",
    "        municipio = string\n",
    "\n",
    "        return municipio"
   ]
  },
  {
   "cell_type": "code",
   "execution_count": null,
   "metadata": {},
   "outputs": [],
   "source": [
    "polygonos_pv['Municipio.areas'].tail()"
   ]
  },
  {
   "cell_type": "code",
   "execution_count": null,
   "metadata": {},
   "outputs": [],
   "source": [
    "polygonos_pv['Municipio.areas'].head()"
   ]
  },
  {
   "cell_type": "code",
   "execution_count": null,
   "metadata": {},
   "outputs": [],
   "source": [
    "polygonos_pv['Municipio.areas']= polygonos_pv['Municipio.areas'].apply(clean_text)"
   ]
  },
  {
   "cell_type": "code",
   "execution_count": null,
   "metadata": {},
   "outputs": [],
   "source": [
    "polygonos_pv['Municipio.areas'].tail()"
   ]
  },
  {
   "cell_type": "code",
   "execution_count": null,
   "metadata": {},
   "outputs": [],
   "source": [
    "polygonos_pv['Municipio.areas'].head()"
   ]
  },
  {
   "cell_type": "code",
   "execution_count": null,
   "metadata": {},
   "outputs": [],
   "source": [
    "polygonos_pv['Tipo.de.bitacora'] = polygonos_pv['Tipo.de.bitacora'].replace('AE','AREA DE EXTENSION')"
   ]
  },
  {
   "cell_type": "code",
   "execution_count": null,
   "metadata": {},
   "outputs": [],
   "source": [
    "polygonos_pv['Proyecto'] = polygonos_pv['Proyecto'].replace('AGUAS_FIRMES_APAN','AGUAS FIRMES APAN')"
   ]
  },
  {
   "cell_type": "code",
   "execution_count": null,
   "metadata": {},
   "outputs": [],
   "source": [
    "polygonos_pv['Proyecto'].tail()"
   ]
  },
  {
   "cell_type": "code",
   "execution_count": null,
   "metadata": {},
   "outputs": [],
   "source": [
    "polygonos_pv['Tipo.de.bitacora'].head()"
   ]
  },
  {
   "cell_type": "code",
   "execution_count": null,
   "metadata": {},
   "outputs": [],
   "source": [
    "target=['Tipo.de.bitacora','Regimen.hidrico','Proyecto','Acuifero']"
   ]
  },
  {
   "cell_type": "code",
   "execution_count": null,
   "metadata": {},
   "outputs": [],
   "source": [
    "for col in target:\n",
    "    polygonos_pv[col] = polygonos_pv[col].str.title()"
   ]
  },
  {
   "cell_type": "code",
   "execution_count": null,
   "metadata": {},
   "outputs": [],
   "source": [
    "polygonos_pv['Tipo.de.bitacora']"
   ]
  },
  {
   "cell_type": "code",
   "execution_count": null,
   "metadata": {},
   "outputs": [],
   "source": [
    "polygonos_pv.to_file('polygonos_pv22.geojson',crs='EPSG:4326', driver='GeoJSON')"
   ]
  },
  {
   "cell_type": "markdown",
   "metadata": {},
   "source": [
    "###### Puntos"
   ]
  },
  {
   "cell_type": "code",
   "execution_count": null,
   "metadata": {},
   "outputs": [],
   "source": [
    "cols_new_geo_points"
   ]
  },
  {
   "cell_type": "code",
   "execution_count": null,
   "metadata": {},
   "outputs": [],
   "source": [
    "cols_no_estan(cols_points,cols_new_geo_points,new_geodf_points)"
   ]
  },
  {
   "cell_type": "code",
   "execution_count": null,
   "metadata": {},
   "outputs": [],
   "source": [
    "cols_points"
   ]
  },
  {
   "cell_type": "code",
   "execution_count": null,
   "metadata": {},
   "outputs": [],
   "source": [
    "last_geodf_points=last_geodf_points[[\n",
    " 'ID.parcela',\n",
    " 'ID.del.sitio',\n",
    " 'Estado.areas',\n",
    " 'Municipio.areas',\n",
    " 'ID.de.bitacora',\n",
    " 'Tipo.de.bitacora',\n",
    " 'Tipo.de.superficie',\n",
    " 'Anio.Bitacora',\n",
    " 'Ciclo',\n",
    " 'Regimen.hidrico',\n",
    " 'Superficie.sembrada',\n",
    " 'Superficie.Total.de.la.parcela',\n",
    " 'Cultivo',\n",
    " 'Proyecto',\n",
    " 'Acuifero',\n",
    " 'geometry']]"
   ]
  },
  {
   "cell_type": "code",
   "execution_count": null,
   "metadata": {},
   "outputs": [],
   "source": [
    "cols_points = list(last_geodf_points.columns)\n",
    "cols_points"
   ]
  },
  {
   "cell_type": "code",
   "execution_count": null,
   "metadata": {},
   "outputs": [],
   "source": [
    "cols_no_estan(cols_points,cols_new_geo_points,new_geodf_points)"
   ]
  },
  {
   "cell_type": "code",
   "execution_count": null,
   "metadata": {},
   "outputs": [],
   "source": [
    "cols_new_geo_points"
   ]
  },
  {
   "cell_type": "code",
   "execution_count": null,
   "metadata": {},
   "outputs": [],
   "source": [
    "new_geodf_points.rename(columns={'Cultivo.1':'Cultivo'},inplace=True)"
   ]
  },
  {
   "cell_type": "code",
   "execution_count": null,
   "metadata": {},
   "outputs": [],
   "source": [
    "salida_puntos=cols_no_estan(cols_points,cols_new_geo_points,new_geodf_points)"
   ]
  },
  {
   "cell_type": "code",
   "execution_count": null,
   "metadata": {},
   "outputs": [],
   "source": [
    "salida_puntos.info()"
   ]
  },
  {
   "cell_type": "code",
   "execution_count": null,
   "metadata": {},
   "outputs": [],
   "source": [
    "salida_puntos.crs"
   ]
  },
  {
   "cell_type": "code",
   "execution_count": null,
   "metadata": {},
   "outputs": [],
   "source": [
    "last_geodf_points.crs"
   ]
  },
  {
   "cell_type": "code",
   "execution_count": null,
   "metadata": {},
   "outputs": [],
   "source": [
    "salida_puntos.to_crs('EPSG:4326',inplace=True)"
   ]
  },
  {
   "cell_type": "code",
   "execution_count": null,
   "metadata": {},
   "outputs": [],
   "source": [
    "puntos_pv22 = last_geodf_points.append(salida_puntos,ignore_index=True)"
   ]
  },
  {
   "cell_type": "code",
   "execution_count": null,
   "metadata": {},
   "outputs": [],
   "source": [
    "puntos_pv22.info()"
   ]
  },
  {
   "cell_type": "code",
   "execution_count": null,
   "metadata": {},
   "outputs": [],
   "source": [
    "puntos_pv22['Municipio.areas'] = puntos_pv22['Municipio.areas'].apply(clean_text)"
   ]
  },
  {
   "cell_type": "code",
   "execution_count": null,
   "metadata": {},
   "outputs": [],
   "source": [
    "puntos_pv22['Municipio.areas'].tail(20)"
   ]
  },
  {
   "cell_type": "code",
   "execution_count": null,
   "metadata": {},
   "outputs": [],
   "source": [
    "puntos_pv22['Tipo.de.bitacora']=puntos_pv22['Tipo.de.bitacora'].replace('AI simplificada','Área de Impacto Simplificada')"
   ]
  },
  {
   "cell_type": "code",
   "execution_count": null,
   "metadata": {},
   "outputs": [],
   "source": [
    "puntos_pv22['Tipo.de.bitacora']=puntos_pv22['Tipo.de.bitacora'].replace('AI','Área de Impacto')"
   ]
  },
  {
   "cell_type": "code",
   "execution_count": null,
   "metadata": {},
   "outputs": [],
   "source": [
    "puntos_pv22['Tipo.de.bitacora']"
   ]
  },
  {
   "cell_type": "code",
   "execution_count": null,
   "metadata": {},
   "outputs": [],
   "source": [
    "puntos_pv22['Proyecto']=puntos_pv22['Proyecto'].replace('AGUAS_FIRMES_APAN','Aguas Firmes Apan')"
   ]
  },
  {
   "cell_type": "code",
   "execution_count": null,
   "metadata": {},
   "outputs": [],
   "source": [
    "puntos_pv22['Proyecto']"
   ]
  },
  {
   "cell_type": "code",
   "execution_count": null,
   "metadata": {},
   "outputs": [],
   "source": [
    "puntos_pv22['Proyecto'] = puntos_pv22['Proyecto'].str.title()"
   ]
  },
  {
   "cell_type": "code",
   "execution_count": null,
   "metadata": {},
   "outputs": [],
   "source": [
    "puntos_pv22['Proyecto'] "
   ]
  },
  {
   "cell_type": "code",
   "execution_count": null,
   "metadata": {},
   "outputs": [],
   "source": [
    "puntos_pv22['Acuifero'] = puntos_pv22['Acuifero'].str.title()"
   ]
  },
  {
   "cell_type": "code",
   "execution_count": null,
   "metadata": {},
   "outputs": [],
   "source": [
    "puntos_pv22['Acuifero'] "
   ]
  },
  {
   "cell_type": "code",
   "execution_count": null,
   "metadata": {},
   "outputs": [],
   "source": [
    "puntos_pv22.drop_duplicates(keep='last',inplace=True)"
   ]
  },
  {
   "cell_type": "code",
   "execution_count": null,
   "metadata": {},
   "outputs": [],
   "source": [
    "puntos_pv22.info()"
   ]
  },
  {
   "cell_type": "code",
   "execution_count": null,
   "metadata": {},
   "outputs": [],
   "source": [
    "puntos_pv22.to_file('puntos_pv22.geojson',crs='EPSG:4326', driver='GeoJSON')"
   ]
  }
 ],
 "metadata": {
  "kernelspec": {
   "display_name": "Python 3",
   "language": "python",
   "name": "python3"
  },
  "language_info": {
   "codemirror_mode": {
    "name": "ipython",
    "version": 3
   },
   "file_extension": ".py",
   "mimetype": "text/x-python",
   "name": "python",
   "nbconvert_exporter": "python",
   "pygments_lexer": "ipython3",
   "version": "3.8.10"
  }
 },
 "nbformat": 4,
 "nbformat_minor": 2
}
