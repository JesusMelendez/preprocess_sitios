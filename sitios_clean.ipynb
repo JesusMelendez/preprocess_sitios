{
 "cells": [
  {
   "cell_type": "code",
   "execution_count": null,
   "metadata": {},
   "outputs": [],
   "source": [
    "import pandas as pd\n",
    "import numpy as np\n",
    "import re\n",
    "from shapely.geometry import Point, Polygon\n",
    "import geopandas as gpd\n",
    "import fiona\n"
   ]
  },
  {
   "cell_type": "code",
   "execution_count": null,
   "metadata": {},
   "outputs": [],
   "source": [
    "def to_float(i):\n",
    "    \"\"\"\n",
    "    el parámetro i es un del tipo str\n",
    "    -----------------------------------\n",
    "    La función to_float convierte a 'i' a tipo flotante\n",
    "    -----------------------------------\n",
    "    devuelve un valor del tipo float\n",
    "    \n",
    "    \"\"\"\n",
    "    i = float(i)\n",
    "    return i"
   ]
  },
  {
   "cell_type": "code",
   "execution_count": null,
   "metadata": {},
   "outputs": [],
   "source": [
    "def transform(row):\n",
    "    \"\"\"\n",
    "    el parámetro row es un valor del tipo str\n",
    "    ----------------------------------------------\n",
    "    separa los elementos de cada row de acuerdo a ciertos caracteres\n",
    "    depura aquellos que no cumplen ciertas condiciones asignandoles el valor de lista vacia\n",
    "    transforma cada cadena de texto a valores del tipo float\n",
    "    ------------------------------------------------\n",
    "    Retorna coor la cual puede ser una lista con valores flotantes \n",
    "    o una lista vacía.\n",
    "\n",
    "    \"\"\"\n",
    "    input = row.split(',')\n",
    "\n",
    "    size_list = len(input)\n",
    "\n",
    "    if size_list ==1:\n",
    "        coor = []\n",
    "    elif len(input) ==2:\n",
    "        try:\n",
    "            pre_punto = map(to_float,input)\n",
    "        except ValueError as e:\n",
    "            print(e)\n",
    "            coor=list(pre_punto)\n",
    "    elif len(input) >2:\n",
    "        not_point = re.split(r\",0\\\\n\\\\n|,0|0\\s-|,\",row)\n",
    "        if (\"\" in not_point):\n",
    "            not_point.remove(\"\")\n",
    "            list_with_float = map(to_float,not_point)\n",
    "            coor = list(list_with_float)\n",
    "        else:\n",
    "            list_with_float = map(to_float,not_point)\n",
    "            coor = list(list_with_float)\n",
    "        return coor\n",
    "\n"
   ]
  },
  {
   "cell_type": "code",
   "execution_count": null,
   "metadata": {},
   "outputs": [],
   "source": [
    "def to_matrix(listado):\n",
    "    \"\"\"\n",
    "    el parámetro listado es un objeto del tipo lista\n",
    "    -----------------------------------\n",
    "    transforma una lista a un array de numpy\n",
    "    asigna la forma del array\n",
    "    -----------------------------------\n",
    "    devuelve una matriz\n",
    "    \"\"\"\n",
    "    n = len(listado)\n",
    "    c = 2\n",
    "    f =  n/c\n",
    "    f = int(f)\n",
    "    vector = np.array(listado)\n",
    "    matriz = vector.reshape(f,c)\n",
    "    return matriz"
   ]
  },
  {
   "cell_type": "code",
   "execution_count": null,
   "metadata": {},
   "outputs": [],
   "source": [
    "def geometry_apply(x):\n",
    "    \"\"\"\n",
    "    el parámetro x es una lista\n",
    "    ------------------------------------------\n",
    "    de acuerdo a la longitud de la lista aplica una o dos funciones\n",
    "    -----------------------------------------\n",
    "    devuelve geometry que puede ser un objeto Point, Polygon o un valor None\n",
    "    \"\"\"\n",
    "\n",
    "    n = x\n",
    "    if len(n) == 2:\n",
    "            geometry = Point(n)\n",
    "    elif len(n) >5:\n",
    "        listado = to_matrix(n)\n",
    "        geometry = Polygon(listado)\n",
    "    else:\n",
    "        geometry = None\n",
    "    return geometry\n",
    "\n",
    "    "
   ]
  },
  {
   "cell_type": "code",
   "execution_count": null,
   "metadata": {},
   "outputs": [],
   "source": [
    "def typeshape(x):\n",
    "    \"\"\"\n",
    "    El parámetro x es un str\n",
    "    ----------------------------------------\n",
    "    De acuerdo al valor genera ciertas cadenas de texto\n",
    "    ---------------------------------------\n",
    "    retorna label que es un str\n",
    "    \"\"\"\n",
    "    n=x\n",
    "    if int(n) == 2:\n",
    "        label = \"Point\"\n",
    "    else:\n",
    "        label = \"Polygon\"\n",
    "    return label    "
   ]
  },
  {
   "cell_type": "code",
   "execution_count": null,
   "metadata": {},
   "outputs": [],
   "source": [
    "def main(file_input):\n",
    "    \"\"\"\n",
    "    file_input recibe al archivo Sitios.txt\n",
    "    -----------------------------------------------\n",
    "    Lee el archivo\n",
    "    genera columnas y aplica funciones\n",
    "    crea 3 subsets distintos\n",
    "    elimina columnas temporales y columna Coordenadas areas\n",
    "    exportar los sets a un formato específico\n",
    "    -----------------------------------------------\n",
    "    genera los archivos de salida o un error\n",
    "    \"\"\"\n",
    "    try:\n",
    "        sitios= pd.read_csv(file_input,delimiter='\\t',index_col='ID del Sitio')\n",
    "        sitiosbd = sitios.copy()\n",
    "        sitiosbd['info_geo'] = sitiosbd['Coordenadas areas']\n",
    "        sitiosbd['info_geo']=sitiosbd['info_geo'].astype(str)\n",
    "        sitiosbd['info_geo']= sitiosbd['info_geo'].apply(transform)\n",
    "        desechados=sitiosbd[sitiosbd['info_geo'].isnull()]\n",
    "        sitiosbd_depurate=sitiosbd[sitiosbd['info_geo'].notna()]\n",
    "        sitiosbd_depurate['n_vertices'] = sitiosbd_depurate['info_geo'].apply(lambda x:len(x))\n",
    "        sitiosbd_depurate['type_geometry'] = sitiosbd_depurate['info_geo'].apply(geometry_apply)\n",
    "        sitiosbd_depurate=sitiosbd_depurate[sitiosbd_depurate['type_geometry'].notna()]\n",
    "        desechados_2=sitiosbd_depurate[sitiosbd_depurate['type_geometry'].isnull()]\n",
    "        desechados = pd.concat([desechados_2,desechados],axis=1)\n",
    "        desechados.to_csv('./errors.csv')\n",
    "        sitiosbd_depurate['type_shape'] = sitiosbd_depurate['n_vertices'].apply(typeshape)\n",
    "        sitiosbd_polygon = sitiosbd_depurate[sitiosbd_depurate['type_shape']=='Polygon']\n",
    "        sitiosbd_point = sitiosbd_depurate[sitiosbd_depurate['type_shape']=='Point']\n",
    "        gdf_points_sitios = gpd.GeoDataFrame(sitiosbd_point,geometry='type_geometry',crs='CRS84')\n",
    "        gdf_polygons_sitios = gpd.GeoDataFrame(sitiosbd_polygon,geometry='type_geometry',crs='CRS84')\n",
    " \n",
    "        eliminar = ['Coordenadas areas','info_geo','n_vertices','type_shape']\n",
    "        gdf_points_sitios=gdf_points_sitios.drop(columns=eliminar)\n",
    "        gdf_polygons_sitios=gdf_polygons_sitios.drop(columns=eliminar)\n",
    "\n",
    "        gdf_points_sitios.to_file(\"./points.geojson\",crs='CRS84', driver='GeoJSON')\n",
    "        gdf_polygons_sitios.to_file(\"./polygons.geojson\",crs='CRS84', driver='GeoJSON')\n",
    "    except FileNotFoundError as e:\n",
    "        print('Por favor ejecute el script en el mismo directorio donde se encuentre el archivo Sitio.txt {e}')\n",
    "    "
   ]
  },
  {
   "cell_type": "code",
   "execution_count": null,
   "metadata": {},
   "outputs": [],
   "source": [
    "if __name__ == \"__main__\":\n",
    "    main(\"./Sitios.txt\")"
   ]
  }
 ],
 "metadata": {
  "kernelspec": {
   "display_name": "venv",
   "language": "python",
   "name": "python3"
  },
  "language_info": {
   "codemirror_mode": {
    "name": "ipython",
    "version": 3
   },
   "file_extension": ".py",
   "mimetype": "text/x-python",
   "name": "python",
   "nbconvert_exporter": "python",
   "pygments_lexer": "ipython3",
   "version": "3.8.10"
  },
  "orig_nbformat": 4,
  "vscode": {
   "interpreter": {
    "hash": "fcb694eafc1e297a9ff4e4822b76b3500fdba5bfbf6da76cfcf5079fda3b1d96"
   }
  }
 },
 "nbformat": 4,
 "nbformat_minor": 2
}
