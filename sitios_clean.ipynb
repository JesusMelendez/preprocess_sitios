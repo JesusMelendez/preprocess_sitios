{
 "cells": [
  {
   "cell_type": "code",
   "execution_count": 9,
   "metadata": {},
   "outputs": [
    {
     "data": {
      "text/plain": [
       "{'DXF': 'rw',\n",
       " 'CSV': 'raw',\n",
       " 'OpenFileGDB': 'r',\n",
       " 'ESRIJSON': 'r',\n",
       " 'ESRI Shapefile': 'raw',\n",
       " 'FlatGeobuf': 'rw',\n",
       " 'GeoJSON': 'raw',\n",
       " 'GeoJSONSeq': 'rw',\n",
       " 'GPKG': 'raw',\n",
       " 'GML': 'rw',\n",
       " 'OGR_GMT': 'rw',\n",
       " 'GPX': 'rw',\n",
       " 'Idrisi': 'r',\n",
       " 'MapInfo File': 'raw',\n",
       " 'DGN': 'raw',\n",
       " 'PCIDSK': 'raw',\n",
       " 'OGR_PDS': 'r',\n",
       " 'S57': 'r',\n",
       " 'SQLite': 'raw',\n",
       " 'TopoJSON': 'r'}"
      ]
     },
     "execution_count": 9,
     "metadata": {},
     "output_type": "execute_result"
    }
   ],
   "source": [
    "import pandas as pd\n",
    "import numpy as np\n",
    "import re\n",
    "from shapely.geometry import Point, Polygon\n",
    "import geopandas as gpd\n",
    "import fiona\n",
    "fiona.supported_drivers "
   ]
  },
  {
   "cell_type": "code",
   "execution_count": 10,
   "metadata": {},
   "outputs": [],
   "source": [
    "def to_float(i):\n",
    "    i = float(i)\n",
    "    return i"
   ]
  },
  {
   "cell_type": "code",
   "execution_count": 11,
   "metadata": {},
   "outputs": [],
   "source": [
    "def transform(row):\n",
    "    input = row.split(',')\n",
    "    # print(input)\n",
    "    size_list = len(input)\n",
    "    # print(f'largo de lista: {size_list}')\n",
    "    if size_list ==1:\n",
    "        coor = []\n",
    "    elif len(input) ==2:\n",
    "        try:\n",
    "            pre_punto = map(to_float,input)\n",
    "        except ValueError as e:\n",
    "            print(e)\n",
    "            coor=list(pre_punto)\n",
    "    elif len(input) >2:\n",
    "        not_point = re.split(r\",0\\\\n\\\\n|,0|0\\s-|,\",row)\n",
    "        if (\"\" in not_point):\n",
    "            not_point.remove(\"\")\n",
    "            list_with_float = map(to_float,not_point)\n",
    "            coor = list(list_with_float)\n",
    "        else:\n",
    "            list_with_float = map(to_float,not_point)\n",
    "            coor = list(list_with_float)\n",
    "        return coor\n",
    "\n"
   ]
  },
  {
   "cell_type": "code",
   "execution_count": 12,
   "metadata": {},
   "outputs": [],
   "source": [
    "def to_matrix(listado):\n",
    "    n = len(listado)\n",
    "    c = 2\n",
    "    f =  n/c\n",
    "    f = int(f)\n",
    "    vector = np.array(listado)\n",
    "    matriz = vector.reshape(f,c)\n",
    "    return matriz"
   ]
  },
  {
   "cell_type": "code",
   "execution_count": 13,
   "metadata": {},
   "outputs": [],
   "source": [
    "def geometry_apply(x):\n",
    "\n",
    "    n = x\n",
    "    if len(n) == 2:\n",
    "            geometry = Point(n)\n",
    "    elif len(n) >5:\n",
    "        listado = to_matrix(n)\n",
    "        geometry = Polygon(listado)\n",
    "    else:\n",
    "        geometry = None\n",
    "    return geometry\n",
    "\n",
    "    "
   ]
  },
  {
   "cell_type": "code",
   "execution_count": 14,
   "metadata": {},
   "outputs": [],
   "source": [
    "def typeshape(x):\n",
    "    n=x\n",
    "    if int(n) == 2:\n",
    "        label = \"Point\"\n",
    "    else:\n",
    "        label = \"Polygon\"\n",
    "    return label    "
   ]
  },
  {
   "cell_type": "code",
   "execution_count": 15,
   "metadata": {},
   "outputs": [],
   "source": [
    "def main(file_input):\n",
    "    try:\n",
    "        sitios= pd.read_csv(file_input,delimiter='\\t',index_col='ID del Sitio')\n",
    "        sitiosbd = sitios.copy()\n",
    "        sitiosbd['info_geo'] = sitiosbd['Coordenadas areas']\n",
    "        sitiosbd['info_geo']=sitiosbd['info_geo'].astype(str)\n",
    "        sitiosbd['info_geo']= sitiosbd['info_geo'].apply(transform)\n",
    "        desechados=sitiosbd[sitiosbd['info_geo'].isnull()]\n",
    "        desechados.to_csv('./errors.csv')\n",
    "        sitiosbd_depurate=sitiosbd[sitiosbd['info_geo'].notna()]\n",
    "        sitiosbd_depurate['n_vertices'] = sitiosbd_depurate['info_geo'].apply(lambda x:len(x))\n",
    "        sitiosbd_depurate['type_geometry'] = sitiosbd_depurate['info_geo'].apply(geometry_apply)\n",
    "        sitiosbd_depurate=sitiosbd_depurate[sitiosbd_depurate['type_geometry'].notna()]\n",
    "        sitiosbd_depurate['type_shape'] = sitiosbd_depurate['n_vertices'].apply(typeshape)\n",
    "        sitiosbd_polygon = sitiosbd_depurate[sitiosbd_depurate['type_shape']=='Polygon']\n",
    "        sitiosbd_point = sitiosbd_depurate[sitiosbd_depurate['type_shape']=='Point']\n",
    "        gdf_points_sitios = gpd.GeoDataFrame(sitiosbd_point,geometry='type_geometry',crs='CRS84')\n",
    "        gdf_polygons_sitios = gpd.GeoDataFrame(sitiosbd_polygon,geometry='type_geometry',crs='CRS84')\n",
    "        gdf_points_sitios.to_file(\"./points.geojson\",crs='CRS84', driver='GeoJSON')\n",
    "        gdf_polygons_sitios.to_file(\"./polygons.geojson\",crs='CRS84', driver='GeoJSON')\n",
    "    except FileNotFoundError as e:\n",
    "        print('Por favor ejecute el script en el mismo directorio donde se encuentre el archivo Sitio.txt {e}')\n",
    "    "
   ]
  },
  {
   "cell_type": "code",
   "execution_count": 16,
   "metadata": {},
   "outputs": [
    {
     "name": "stderr",
     "output_type": "stream",
     "text": [
      "C:\\Users\\JMELENDEZ\\AppData\\Local\\Temp\\ipykernel_36668\\3887139163.py:11: SettingWithCopyWarning: \n",
      "A value is trying to be set on a copy of a slice from a DataFrame.\n",
      "Try using .loc[row_indexer,col_indexer] = value instead\n",
      "\n",
      "See the caveats in the documentation: https://pandas.pydata.org/pandas-docs/stable/user_guide/indexing.html#returning-a-view-versus-a-copy\n",
      "  sitiosbd_depurate['n_vertices'] = sitiosbd_depurate['info_geo'].apply(lambda x:len(x))\n",
      "C:\\Users\\JMELENDEZ\\AppData\\Local\\Temp\\ipykernel_36668\\3887139163.py:12: SettingWithCopyWarning: \n",
      "A value is trying to be set on a copy of a slice from a DataFrame.\n",
      "Try using .loc[row_indexer,col_indexer] = value instead\n",
      "\n",
      "See the caveats in the documentation: https://pandas.pydata.org/pandas-docs/stable/user_guide/indexing.html#returning-a-view-versus-a-copy\n",
      "  sitiosbd_depurate['type_geometry'] = sitiosbd_depurate['info_geo'].apply(geometry_apply)\n"
     ]
    },
    {
     "ename": "NameError",
     "evalue": "name 'GeoJSON' is not defined",
     "output_type": "error",
     "traceback": [
      "\u001b[1;31m---------------------------------------------------------------------------\u001b[0m",
      "\u001b[1;31mNameError\u001b[0m                                 Traceback (most recent call last)",
      "Cell \u001b[1;32mIn[16], line 2\u001b[0m\n\u001b[0;32m      1\u001b[0m \u001b[39mif\u001b[39;00m \u001b[39m__name__\u001b[39m \u001b[39m==\u001b[39m \u001b[39m\"\u001b[39m\u001b[39m__main__\u001b[39m\u001b[39m\"\u001b[39m:\n\u001b[1;32m----> 2\u001b[0m     main(\u001b[39m\"\u001b[39;49m\u001b[39m./Sitios.txt\u001b[39;49m\u001b[39m\"\u001b[39;49m)\n",
      "Cell \u001b[1;32mIn[15], line 19\u001b[0m, in \u001b[0;36mmain\u001b[1;34m(file_input)\u001b[0m\n\u001b[0;32m     17\u001b[0m     gdf_points_sitios \u001b[39m=\u001b[39m gpd\u001b[39m.\u001b[39mGeoDataFrame(sitiosbd_point,geometry\u001b[39m=\u001b[39m\u001b[39m'\u001b[39m\u001b[39mtype_geometry\u001b[39m\u001b[39m'\u001b[39m,crs\u001b[39m=\u001b[39m\u001b[39m'\u001b[39m\u001b[39mCRS84\u001b[39m\u001b[39m'\u001b[39m)\n\u001b[0;32m     18\u001b[0m     gdf_polygons_sitios \u001b[39m=\u001b[39m gpd\u001b[39m.\u001b[39mGeoDataFrame(sitiosbd_polygon,geometry\u001b[39m=\u001b[39m\u001b[39m'\u001b[39m\u001b[39mtype_geometry\u001b[39m\u001b[39m'\u001b[39m,crs\u001b[39m=\u001b[39m\u001b[39m'\u001b[39m\u001b[39mCRS84\u001b[39m\u001b[39m'\u001b[39m)\n\u001b[1;32m---> 19\u001b[0m     gdf_points_sitios\u001b[39m.\u001b[39mto_file(\u001b[39m\"\u001b[39m\u001b[39m./points.geojson\u001b[39m\u001b[39m\"\u001b[39m,crs\u001b[39m=\u001b[39m\u001b[39m'\u001b[39m\u001b[39mCRS84\u001b[39m\u001b[39m'\u001b[39m,driver\u001b[39m=\u001b[39mGeoJSON)\n\u001b[0;32m     20\u001b[0m     gdf_polygons_sitios\u001b[39m.\u001b[39mto_file(\u001b[39m\"\u001b[39m\u001b[39m./polygons.geojson\u001b[39m\u001b[39m\"\u001b[39m,crs\u001b[39m=\u001b[39m\u001b[39m'\u001b[39m\u001b[39mCRS84\u001b[39m\u001b[39m'\u001b[39m,driver\u001b[39m=\u001b[39mGeoJSON)\n\u001b[0;32m     21\u001b[0m \u001b[39mexcept\u001b[39;00m \u001b[39mFileNotFoundError\u001b[39;00m \u001b[39mas\u001b[39;00m e:\n",
      "\u001b[1;31mNameError\u001b[0m: name 'GeoJSON' is not defined"
     ]
    }
   ],
   "source": [
    "if __name__ == \"__main__\":\n",
    "    main(\"./Sitios.txt\")"
   ]
  }
 ],
 "metadata": {
  "kernelspec": {
   "display_name": "venv",
   "language": "python",
   "name": "python3"
  },
  "language_info": {
   "codemirror_mode": {
    "name": "ipython",
    "version": 3
   },
   "file_extension": ".py",
   "mimetype": "text/x-python",
   "name": "python",
   "nbconvert_exporter": "python",
   "pygments_lexer": "ipython3",
   "version": "3.8.10"
  },
  "orig_nbformat": 4,
  "vscode": {
   "interpreter": {
    "hash": "fcb694eafc1e297a9ff4e4822b76b3500fdba5bfbf6da76cfcf5079fda3b1d96"
   }
  }
 },
 "nbformat": 4,
 "nbformat_minor": 2
}
